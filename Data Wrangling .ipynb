{
 "cells": [
  {
   "cell_type": "code",
   "execution_count": 3,
   "id": "1b0e747d",
   "metadata": {},
   "outputs": [],
   "source": [
    "from pyspark.sql import SparkSession\n",
    "from pyspark.sql.functions import col\n",
    "from pyspark.sql.functions import udf\n",
    "from pyspark.sql.types import StringType\n",
    "from pyspark.sql.types import IntegerType\n",
    "from pyspark.sql.functions import desc\n",
    "from pyspark.sql.functions import asc\n",
    "from pyspark.sql.functions import sum as Fsum\n",
    "\n",
    "import datetime\n",
    "\n",
    "import numpy as np\n",
    "import pandas as pd\n",
    "import matplotlib.pyplot as plt"
   ]
  },
  {
   "cell_type": "code",
   "execution_count": 4,
   "id": "284e5a18",
   "metadata": {},
   "outputs": [],
   "source": [
    "spark = SparkSession.builder.appName(\"Appname\").getOrCreate()"
   ]
  },
  {
   "cell_type": "code",
   "execution_count": 6,
   "id": "3159f35a",
   "metadata": {},
   "outputs": [
    {
     "data": {
      "text/plain": [
       "Row(Car='Chevrolet Chevelle Malibu', MPG=18.0, Cylinders=8, Displacement=307.0, Horsepower=130.0, Weight=Decimal('3504'), Acceleration=12.0, Model=70, Origin='US')"
      ]
     },
     "execution_count": 6,
     "metadata": {},
     "output_type": "execute_result"
    }
   ],
   "source": [
    "df = spark.read.csv(\"D:\\\\Jupiter\\\\cars.csv\", header=True, inferSchema=True, sep=';')\n",
    "df.head()"
   ]
  },
  {
   "cell_type": "code",
   "execution_count": 7,
   "id": "3e139659",
   "metadata": {},
   "outputs": [
    {
     "name": "stdout",
     "output_type": "stream",
     "text": [
      "+-------------------------+----+---------+------------+----------+------+------------+-----+------+\n",
      "|Car                      |MPG |Cylinders|Displacement|Horsepower|Weight|Acceleration|Model|Origin|\n",
      "+-------------------------+----+---------+------------+----------+------+------------+-----+------+\n",
      "|Chevrolet Chevelle Malibu|18.0|8        |307.0       |130.0     |3504  |12.0        |70   |US    |\n",
      "|Buick Skylark 320        |15.0|8        |350.0       |165.0     |3693  |11.5        |70   |US    |\n",
      "|Plymouth Satellite       |18.0|8        |318.0       |150.0     |3436  |11.0        |70   |US    |\n",
      "|AMC Rebel SST            |16.0|8        |304.0       |150.0     |3433  |12.0        |70   |US    |\n",
      "|Ford Torino              |17.0|8        |302.0       |140.0     |3449  |10.5        |70   |US    |\n",
      "+-------------------------+----+---------+------------+----------+------+------------+-----+------+\n",
      "only showing top 5 rows\n",
      "\n"
     ]
    }
   ],
   "source": [
    "df.show(n=5, truncate=False)"
   ]
  },
  {
   "cell_type": "code",
   "execution_count": 8,
   "id": "663d74d3",
   "metadata": {},
   "outputs": [
    {
     "data": {
      "text/plain": [
       "DataFrame[Car: string, MPG: double, Cylinders: int, Displacement: double, Horsepower: double, Weight: decimal(4,0), Acceleration: double, Model: int, Origin: string]"
      ]
     },
     "execution_count": 8,
     "metadata": {},
     "output_type": "execute_result"
    }
   ],
   "source": [
    "df.limit(5)"
   ]
  },
  {
   "cell_type": "code",
   "execution_count": 9,
   "id": "1bdabfdd",
   "metadata": {},
   "outputs": [
    {
     "data": {
      "text/plain": [
       "['Car',\n",
       " 'MPG',\n",
       " 'Cylinders',\n",
       " 'Displacement',\n",
       " 'Horsepower',\n",
       " 'Weight',\n",
       " 'Acceleration',\n",
       " 'Model',\n",
       " 'Origin']"
      ]
     },
     "execution_count": 9,
     "metadata": {},
     "output_type": "execute_result"
    }
   ],
   "source": [
    "df.columns"
   ]
  },
  {
   "cell_type": "code",
   "execution_count": 15,
   "id": "048ef7dd",
   "metadata": {},
   "outputs": [
    {
     "data": {
      "text/plain": [
       "[('Car', 'string'),\n",
       " ('MPG', 'double'),\n",
       " ('Cylinders', 'int'),\n",
       " ('Displacement', 'double'),\n",
       " ('Horsepower', 'double'),\n",
       " ('Weight', 'decimal(4,0)'),\n",
       " ('Acceleration', 'double'),\n",
       " ('Model', 'int'),\n",
       " ('Origin', 'string')]"
      ]
     },
     "execution_count": 15,
     "metadata": {},
     "output_type": "execute_result"
    }
   ],
   "source": [
    "df.dtypes"
   ]
  },
  {
   "cell_type": "code",
   "execution_count": 10,
   "id": "970333b2",
   "metadata": {},
   "outputs": [
    {
     "name": "stdout",
     "output_type": "stream",
     "text": [
      "root\n",
      " |-- Car: string (nullable = true)\n",
      " |-- MPG: double (nullable = true)\n",
      " |-- Cylinders: integer (nullable = true)\n",
      " |-- Displacement: double (nullable = true)\n",
      " |-- Horsepower: double (nullable = true)\n",
      " |-- Weight: decimal(4,0) (nullable = true)\n",
      " |-- Acceleration: double (nullable = true)\n",
      " |-- Model: integer (nullable = true)\n",
      " |-- Origin: string (nullable = true)\n",
      "\n"
     ]
    }
   ],
   "source": [
    "df.printSchema()"
   ]
  },
  {
   "cell_type": "code",
   "execution_count": 17,
   "id": "57b89e44",
   "metadata": {},
   "outputs": [
    {
     "name": "stdout",
     "output_type": "stream",
     "text": [
      "+--------------------+\n",
      "|                 Car|\n",
      "+--------------------+\n",
      "|Chevrolet Chevell...|\n",
      "|   Buick Skylark 320|\n",
      "|  Plymouth Satellite|\n",
      "|       AMC Rebel SST|\n",
      "|         Ford Torino|\n",
      "|    Ford Galaxie 500|\n",
      "|    Chevrolet Impala|\n",
      "|   Plymouth Fury iii|\n",
      "|    Pontiac Catalina|\n",
      "|  AMC Ambassador DPL|\n",
      "|Citroen DS-21 Pallas|\n",
      "|Chevrolet Chevell...|\n",
      "|    Ford Torino (sw)|\n",
      "|Plymouth Satellit...|\n",
      "|  AMC Rebel SST (sw)|\n",
      "| Dodge Challenger SE|\n",
      "|  Plymouth 'Cuda 340|\n",
      "|Ford Mustang Boss...|\n",
      "|Chevrolet Monte C...|\n",
      "|Buick Estate Wago...|\n",
      "+--------------------+\n",
      "only showing top 20 rows\n",
      "\n"
     ]
    }
   ],
   "source": [
    "df.select(\"Car\").show()"
   ]
  },
  {
   "cell_type": "code",
   "execution_count": 11,
   "id": "63ac1fd0",
   "metadata": {},
   "outputs": [
    {
     "name": "stdout",
     "output_type": "stream",
     "text": [
      "+--------------------------------+\n",
      "|car                             |\n",
      "+--------------------------------+\n",
      "|Chevrolet Chevelle Malibu       |\n",
      "|Buick Skylark 320               |\n",
      "|Plymouth Satellite              |\n",
      "|AMC Rebel SST                   |\n",
      "|Ford Torino                     |\n",
      "|Ford Galaxie 500                |\n",
      "|Chevrolet Impala                |\n",
      "|Plymouth Fury iii               |\n",
      "|Pontiac Catalina                |\n",
      "|AMC Ambassador DPL              |\n",
      "|Citroen DS-21 Pallas            |\n",
      "|Chevrolet Chevelle Concours (sw)|\n",
      "|Ford Torino (sw)                |\n",
      "|Plymouth Satellite (sw)         |\n",
      "|AMC Rebel SST (sw)              |\n",
      "|Dodge Challenger SE             |\n",
      "|Plymouth 'Cuda 340              |\n",
      "|Ford Mustang Boss 302           |\n",
      "|Chevrolet Monte Carlo           |\n",
      "|Buick Estate Wagon (sw)         |\n",
      "+--------------------------------+\n",
      "only showing top 20 rows\n",
      "\n"
     ]
    }
   ],
   "source": [
    "df.select(col('car')).show(truncate=False) #We have imported the 'col' from pyspark initially"
   ]
  },
  {
   "cell_type": "markdown",
   "id": "93541e3f",
   "metadata": {},
   "source": [
    "# Selecting columns & multiple columns"
   ]
  },
  {
   "cell_type": "code",
   "execution_count": 13,
   "id": "dc9f8e95",
   "metadata": {},
   "outputs": [
    {
     "name": "stdout",
     "output_type": "stream",
     "text": [
      "+--------------------+---------+\n",
      "|                 Car|Cylinders|\n",
      "+--------------------+---------+\n",
      "|Chevrolet Chevell...|        8|\n",
      "|   Buick Skylark 320|        8|\n",
      "|  Plymouth Satellite|        8|\n",
      "|       AMC Rebel SST|        8|\n",
      "|         Ford Torino|        8|\n",
      "|    Ford Galaxie 500|        8|\n",
      "|    Chevrolet Impala|        8|\n",
      "|   Plymouth Fury iii|        8|\n",
      "|    Pontiac Catalina|        8|\n",
      "|  AMC Ambassador DPL|        8|\n",
      "|Citroen DS-21 Pallas|        4|\n",
      "|Chevrolet Chevell...|        8|\n",
      "|    Ford Torino (sw)|        8|\n",
      "|Plymouth Satellit...|        8|\n",
      "|  AMC Rebel SST (sw)|        8|\n",
      "| Dodge Challenger SE|        8|\n",
      "|  Plymouth 'Cuda 340|        8|\n",
      "|Ford Mustang Boss...|        8|\n",
      "|Chevrolet Monte C...|        8|\n",
      "|Buick Estate Wago...|        8|\n",
      "+--------------------+---------+\n",
      "only showing top 20 rows\n",
      "\n"
     ]
    }
   ],
   "source": [
    "df.select(['Car', 'Cylinders']).show()"
   ]
  },
  {
   "cell_type": "code",
   "execution_count": 14,
   "id": "87277858",
   "metadata": {},
   "outputs": [
    {
     "name": "stdout",
     "output_type": "stream",
     "text": [
      "+--------------------+----+---------+------------+----------+------+------------+-----+------+------------+\n",
      "|                 Car| MPG|Cylinders|Displacement|Horsepower|Weight|Acceleration|Model|Origin|first_column|\n",
      "+--------------------+----+---------+------------+----------+------+------------+-----+------+------------+\n",
      "|Chevrolet Chevell...|18.0|        8|       307.0|     130.0|  3504|        12.0|   70|    US|           1|\n",
      "|   Buick Skylark 320|15.0|        8|       350.0|     165.0|  3693|        11.5|   70|    US|           1|\n",
      "|  Plymouth Satellite|18.0|        8|       318.0|     150.0|  3436|        11.0|   70|    US|           1|\n",
      "|       AMC Rebel SST|16.0|        8|       304.0|     150.0|  3433|        12.0|   70|    US|           1|\n",
      "|         Ford Torino|17.0|        8|       302.0|     140.0|  3449|        10.5|   70|    US|           1|\n",
      "|    Ford Galaxie 500|15.0|        8|       429.0|     198.0|  4341|        10.0|   70|    US|           1|\n",
      "|    Chevrolet Impala|14.0|        8|       454.0|     220.0|  4354|         9.0|   70|    US|           1|\n",
      "|   Plymouth Fury iii|14.0|        8|       440.0|     215.0|  4312|         8.5|   70|    US|           1|\n",
      "|    Pontiac Catalina|14.0|        8|       455.0|     225.0|  4425|        10.0|   70|    US|           1|\n",
      "|  AMC Ambassador DPL|15.0|        8|       390.0|     190.0|  3850|         8.5|   70|    US|           1|\n",
      "|Citroen DS-21 Pallas| 0.0|        4|       133.0|     115.0|  3090|        17.5|   70|Europe|           1|\n",
      "|Chevrolet Chevell...| 0.0|        8|       350.0|     165.0|  4142|        11.5|   70|    US|           1|\n",
      "|    Ford Torino (sw)| 0.0|        8|       351.0|     153.0|  4034|        11.0|   70|    US|           1|\n",
      "|Plymouth Satellit...| 0.0|        8|       383.0|     175.0|  4166|        10.5|   70|    US|           1|\n",
      "|  AMC Rebel SST (sw)| 0.0|        8|       360.0|     175.0|  3850|        11.0|   70|    US|           1|\n",
      "| Dodge Challenger SE|15.0|        8|       383.0|     170.0|  3563|        10.0|   70|    US|           1|\n",
      "|  Plymouth 'Cuda 340|14.0|        8|       340.0|     160.0|  3609|         8.0|   70|    US|           1|\n",
      "|Ford Mustang Boss...| 0.0|        8|       302.0|     140.0|  3353|         8.0|   70|    US|           1|\n",
      "|Chevrolet Monte C...|15.0|        8|       400.0|     150.0|  3761|         9.5|   70|    US|           1|\n",
      "|Buick Estate Wago...|14.0|        8|       455.0|     225.0|  3086|        10.0|   70|    US|           1|\n",
      "+--------------------+----+---------+------------+----------+------+------------+-----+------+------------+\n",
      "only showing top 20 rows\n",
      "\n"
     ]
    }
   ],
   "source": [
    "from pyspark.sql.functions import lit\n",
    "df.withColumn('first_column', lit(1)).show()"
   ]
  },
  {
   "cell_type": "markdown",
   "id": "ba189e52",
   "metadata": {},
   "source": [
    "# Adding columns"
   ]
  },
  {
   "cell_type": "code",
   "execution_count": 15,
   "id": "0bae2822",
   "metadata": {},
   "outputs": [
    {
     "name": "stdout",
     "output_type": "stream",
     "text": [
      "+--------------------+----+---------+------------+----------+------+------------+-----+------+-------------+------------+\n",
      "|                 Car| MPG|Cylinders|Displacement|Horsepower|Weight|Acceleration|Model|Origin|second_column|Third_column|\n",
      "+--------------------+----+---------+------------+----------+------+------------+-----+------+-------------+------------+\n",
      "|Chevrolet Chevell...|18.0|        8|       307.0|     130.0|  3504|        12.0|   70|    US|            2|           2|\n",
      "|   Buick Skylark 320|15.0|        8|       350.0|     165.0|  3693|        11.5|   70|    US|            2|           2|\n",
      "|  Plymouth Satellite|18.0|        8|       318.0|     150.0|  3436|        11.0|   70|    US|            2|           2|\n",
      "|       AMC Rebel SST|16.0|        8|       304.0|     150.0|  3433|        12.0|   70|    US|            2|           2|\n",
      "|         Ford Torino|17.0|        8|       302.0|     140.0|  3449|        10.5|   70|    US|            2|           2|\n",
      "|    Ford Galaxie 500|15.0|        8|       429.0|     198.0|  4341|        10.0|   70|    US|            2|           2|\n",
      "|    Chevrolet Impala|14.0|        8|       454.0|     220.0|  4354|         9.0|   70|    US|            2|           2|\n",
      "|   Plymouth Fury iii|14.0|        8|       440.0|     215.0|  4312|         8.5|   70|    US|            2|           2|\n",
      "|    Pontiac Catalina|14.0|        8|       455.0|     225.0|  4425|        10.0|   70|    US|            2|           2|\n",
      "|  AMC Ambassador DPL|15.0|        8|       390.0|     190.0|  3850|         8.5|   70|    US|            2|           2|\n",
      "|Citroen DS-21 Pallas| 0.0|        4|       133.0|     115.0|  3090|        17.5|   70|Europe|            2|           2|\n",
      "|Chevrolet Chevell...| 0.0|        8|       350.0|     165.0|  4142|        11.5|   70|    US|            2|           2|\n",
      "|    Ford Torino (sw)| 0.0|        8|       351.0|     153.0|  4034|        11.0|   70|    US|            2|           2|\n",
      "|Plymouth Satellit...| 0.0|        8|       383.0|     175.0|  4166|        10.5|   70|    US|            2|           2|\n",
      "|  AMC Rebel SST (sw)| 0.0|        8|       360.0|     175.0|  3850|        11.0|   70|    US|            2|           2|\n",
      "| Dodge Challenger SE|15.0|        8|       383.0|     170.0|  3563|        10.0|   70|    US|            2|           2|\n",
      "|  Plymouth 'Cuda 340|14.0|        8|       340.0|     160.0|  3609|         8.0|   70|    US|            2|           2|\n",
      "|Ford Mustang Boss...| 0.0|        8|       302.0|     140.0|  3353|         8.0|   70|    US|            2|           2|\n",
      "|Chevrolet Monte C...|15.0|        8|       400.0|     150.0|  3761|         9.5|   70|    US|            2|           2|\n",
      "|Buick Estate Wago...|14.0|        8|       455.0|     225.0|  3086|        10.0|   70|    US|            2|           2|\n",
      "+--------------------+----+---------+------------+----------+------+------------+-----+------+-------------+------------+\n",
      "only showing top 20 rows\n",
      "\n"
     ]
    }
   ],
   "source": [
    "df.withColumn('second_column', lit(2))\\\n",
    "  .withColumn('Third_column', lit(2)).show()"
   ]
  },
  {
   "cell_type": "code",
   "execution_count": 16,
   "id": "0fb42656",
   "metadata": {},
   "outputs": [
    {
     "name": "stdout",
     "output_type": "stream",
     "text": [
      "+--------------------+----+---------+------------+----------+------+------------+-----+------+\n",
      "|                 Car| MPG|Cylinders|Displacement|Horsepower|Weight|Acceleration|Model|Origin|\n",
      "+--------------------+----+---------+------------+----------+------+------------+-----+------+\n",
      "|Chevrolet Chevell...|18.0|        8|       307.0|     130.0|  3504|        12.0|   70|    US|\n",
      "|   Buick Skylark 320|15.0|        8|       350.0|     165.0|  3693|        11.5|   70|    US|\n",
      "|  Plymouth Satellite|18.0|        8|       318.0|     150.0|  3436|        11.0|   70|    US|\n",
      "|       AMC Rebel SST|16.0|        8|       304.0|     150.0|  3433|        12.0|   70|    US|\n",
      "|         Ford Torino|17.0|        8|       302.0|     140.0|  3449|        10.5|   70|    US|\n",
      "|    Ford Galaxie 500|15.0|        8|       429.0|     198.0|  4341|        10.0|   70|    US|\n",
      "|    Chevrolet Impala|14.0|        8|       454.0|     220.0|  4354|         9.0|   70|    US|\n",
      "|   Plymouth Fury iii|14.0|        8|       440.0|     215.0|  4312|         8.5|   70|    US|\n",
      "|    Pontiac Catalina|14.0|        8|       455.0|     225.0|  4425|        10.0|   70|    US|\n",
      "|  AMC Ambassador DPL|15.0|        8|       390.0|     190.0|  3850|         8.5|   70|    US|\n",
      "|Citroen DS-21 Pallas| 0.0|        4|       133.0|     115.0|  3090|        17.5|   70|Europe|\n",
      "|Chevrolet Chevell...| 0.0|        8|       350.0|     165.0|  4142|        11.5|   70|    US|\n",
      "|    Ford Torino (sw)| 0.0|        8|       351.0|     153.0|  4034|        11.0|   70|    US|\n",
      "|Plymouth Satellit...| 0.0|        8|       383.0|     175.0|  4166|        10.5|   70|    US|\n",
      "|  AMC Rebel SST (sw)| 0.0|        8|       360.0|     175.0|  3850|        11.0|   70|    US|\n",
      "| Dodge Challenger SE|15.0|        8|       383.0|     170.0|  3563|        10.0|   70|    US|\n",
      "|  Plymouth 'Cuda 340|14.0|        8|       340.0|     160.0|  3609|         8.0|   70|    US|\n",
      "|Ford Mustang Boss...| 0.0|        8|       302.0|     140.0|  3353|         8.0|   70|    US|\n",
      "|Chevrolet Monte C...|15.0|        8|       400.0|     150.0|  3761|         9.5|   70|    US|\n",
      "|Buick Estate Wago...|14.0|        8|       455.0|     225.0|  3086|        10.0|   70|    US|\n",
      "+--------------------+----+---------+------------+----------+------+------------+-----+------+\n",
      "only showing top 20 rows\n",
      "\n"
     ]
    }
   ],
   "source": [
    "df.show()"
   ]
  },
  {
   "cell_type": "markdown",
   "id": "8f34e02d",
   "metadata": {},
   "source": [
    "# Adding columns using concat"
   ]
  },
  {
   "cell_type": "code",
   "execution_count": 18,
   "id": "64cf6928",
   "metadata": {},
   "outputs": [
    {
     "name": "stdout",
     "output_type": "stream",
     "text": [
      "+--------------------+----+---------+------------+----------+------+------------+-----+------+--------------------+\n",
      "|                 Car| MPG|Cylinders|Displacement|Horsepower|Weight|Acceleration|Model|Origin|       concat_column|\n",
      "+--------------------+----+---------+------------+----------+------+------------+-----+------+--------------------+\n",
      "|Chevrolet Chevell...|18.0|        8|       307.0|     130.0|  3504|        12.0|   70|    US|Chevrolet Chevell...|\n",
      "|   Buick Skylark 320|15.0|        8|       350.0|     165.0|  3693|        11.5|   70|    US|Buick Skylark 320 70|\n",
      "|  Plymouth Satellite|18.0|        8|       318.0|     150.0|  3436|        11.0|   70|    US|Plymouth Satellit...|\n",
      "|       AMC Rebel SST|16.0|        8|       304.0|     150.0|  3433|        12.0|   70|    US|    AMC Rebel SST 70|\n",
      "|         Ford Torino|17.0|        8|       302.0|     140.0|  3449|        10.5|   70|    US|      Ford Torino 70|\n",
      "|    Ford Galaxie 500|15.0|        8|       429.0|     198.0|  4341|        10.0|   70|    US| Ford Galaxie 500 70|\n",
      "|    Chevrolet Impala|14.0|        8|       454.0|     220.0|  4354|         9.0|   70|    US| Chevrolet Impala 70|\n",
      "|   Plymouth Fury iii|14.0|        8|       440.0|     215.0|  4312|         8.5|   70|    US|Plymouth Fury iii 70|\n",
      "|    Pontiac Catalina|14.0|        8|       455.0|     225.0|  4425|        10.0|   70|    US| Pontiac Catalina 70|\n",
      "|  AMC Ambassador DPL|15.0|        8|       390.0|     190.0|  3850|         8.5|   70|    US|AMC Ambassador DP...|\n",
      "|Citroen DS-21 Pallas| 0.0|        4|       133.0|     115.0|  3090|        17.5|   70|Europe|Citroen DS-21 Pal...|\n",
      "|Chevrolet Chevell...| 0.0|        8|       350.0|     165.0|  4142|        11.5|   70|    US|Chevrolet Chevell...|\n",
      "|    Ford Torino (sw)| 0.0|        8|       351.0|     153.0|  4034|        11.0|   70|    US| Ford Torino (sw) 70|\n",
      "|Plymouth Satellit...| 0.0|        8|       383.0|     175.0|  4166|        10.5|   70|    US|Plymouth Satellit...|\n",
      "|  AMC Rebel SST (sw)| 0.0|        8|       360.0|     175.0|  3850|        11.0|   70|    US|AMC Rebel SST (sw...|\n",
      "| Dodge Challenger SE|15.0|        8|       383.0|     170.0|  3563|        10.0|   70|    US|Dodge Challenger ...|\n",
      "|  Plymouth 'Cuda 340|14.0|        8|       340.0|     160.0|  3609|         8.0|   70|    US|Plymouth 'Cuda 34...|\n",
      "|Ford Mustang Boss...| 0.0|        8|       302.0|     140.0|  3353|         8.0|   70|    US|Ford Mustang Boss...|\n",
      "|Chevrolet Monte C...|15.0|        8|       400.0|     150.0|  3761|         9.5|   70|    US|Chevrolet Monte C...|\n",
      "|Buick Estate Wago...|14.0|        8|       455.0|     225.0|  3086|        10.0|   70|    US|Buick Estate Wago...|\n",
      "+--------------------+----+---------+------------+----------+------+------------+-----+------+--------------------+\n",
      "only showing top 20 rows\n",
      "\n"
     ]
    }
   ],
   "source": [
    "from pyspark.sql.functions import concat\n",
    "df.withColumn(\"concat_column\", concat(col('Car'), lit(\" \"), col(\"Model\"))).show()"
   ]
  },
  {
   "cell_type": "markdown",
   "id": "b6f7f57f",
   "metadata": {},
   "source": [
    "# Renaming Columns"
   ]
  },
  {
   "cell_type": "code",
   "execution_count": 19,
   "id": "b4831fc4",
   "metadata": {},
   "outputs": [
    {
     "name": "stdout",
     "output_type": "stream",
     "text": [
      "+--------------------+----+---------+------------+-------+------+------------+-----+------+\n",
      "|                 Car| MPG|Cylinders|Displacement|H_power|Weight|Acceleration|Model|Origin|\n",
      "+--------------------+----+---------+------------+-------+------+------------+-----+------+\n",
      "|Chevrolet Chevell...|18.0|        8|       307.0|  130.0|  3504|        12.0|   70|    US|\n",
      "|   Buick Skylark 320|15.0|        8|       350.0|  165.0|  3693|        11.5|   70|    US|\n",
      "|  Plymouth Satellite|18.0|        8|       318.0|  150.0|  3436|        11.0|   70|    US|\n",
      "|       AMC Rebel SST|16.0|        8|       304.0|  150.0|  3433|        12.0|   70|    US|\n",
      "|         Ford Torino|17.0|        8|       302.0|  140.0|  3449|        10.5|   70|    US|\n",
      "|    Ford Galaxie 500|15.0|        8|       429.0|  198.0|  4341|        10.0|   70|    US|\n",
      "|    Chevrolet Impala|14.0|        8|       454.0|  220.0|  4354|         9.0|   70|    US|\n",
      "|   Plymouth Fury iii|14.0|        8|       440.0|  215.0|  4312|         8.5|   70|    US|\n",
      "|    Pontiac Catalina|14.0|        8|       455.0|  225.0|  4425|        10.0|   70|    US|\n",
      "|  AMC Ambassador DPL|15.0|        8|       390.0|  190.0|  3850|         8.5|   70|    US|\n",
      "|Citroen DS-21 Pallas| 0.0|        4|       133.0|  115.0|  3090|        17.5|   70|Europe|\n",
      "|Chevrolet Chevell...| 0.0|        8|       350.0|  165.0|  4142|        11.5|   70|    US|\n",
      "|    Ford Torino (sw)| 0.0|        8|       351.0|  153.0|  4034|        11.0|   70|    US|\n",
      "|Plymouth Satellit...| 0.0|        8|       383.0|  175.0|  4166|        10.5|   70|    US|\n",
      "|  AMC Rebel SST (sw)| 0.0|        8|       360.0|  175.0|  3850|        11.0|   70|    US|\n",
      "| Dodge Challenger SE|15.0|        8|       383.0|  170.0|  3563|        10.0|   70|    US|\n",
      "|  Plymouth 'Cuda 340|14.0|        8|       340.0|  160.0|  3609|         8.0|   70|    US|\n",
      "|Ford Mustang Boss...| 0.0|        8|       302.0|  140.0|  3353|         8.0|   70|    US|\n",
      "|Chevrolet Monte C...|15.0|        8|       400.0|  150.0|  3761|         9.5|   70|    US|\n",
      "|Buick Estate Wago...|14.0|        8|       455.0|  225.0|  3086|        10.0|   70|    US|\n",
      "+--------------------+----+---------+------------+-------+------+------------+-----+------+\n",
      "only showing top 20 rows\n",
      "\n"
     ]
    }
   ],
   "source": [
    "df.withColumnRenamed(\"Horsepower\", \"H_power\").show()"
   ]
  },
  {
   "cell_type": "markdown",
   "id": "adb61ca1",
   "metadata": {},
   "source": [
    "# Grouping By Columns"
   ]
  },
  {
   "cell_type": "code",
   "execution_count": 20,
   "id": "4646769a",
   "metadata": {},
   "outputs": [
    {
     "name": "stdout",
     "output_type": "stream",
     "text": [
      "+------+-----+\n",
      "|Origin|count|\n",
      "+------+-----+\n",
      "|Europe|   73|\n",
      "|    US|  254|\n",
      "| Japan|   79|\n",
      "+------+-----+\n",
      "\n"
     ]
    }
   ],
   "source": [
    "df.groupBy(\"Origin\").count().show()"
   ]
  },
  {
   "cell_type": "code",
   "execution_count": 22,
   "id": "936ba8d1",
   "metadata": {},
   "outputs": [
    {
     "name": "stdout",
     "output_type": "stream",
     "text": [
      "+------+-----+-----+\n",
      "|Origin|Model|count|\n",
      "+------+-----+-----+\n",
      "|Europe|   71|    5|\n",
      "|Europe|   80|    9|\n",
      "|Europe|   79|    4|\n",
      "| Japan|   75|    4|\n",
      "|    US|   72|   18|\n",
      "|    US|   80|    7|\n",
      "|Europe|   74|    6|\n",
      "| Japan|   79|    2|\n",
      "|Europe|   76|    8|\n",
      "|    US|   75|   20|\n",
      "| Japan|   77|    6|\n",
      "|    US|   82|   20|\n",
      "| Japan|   80|   13|\n",
      "| Japan|   78|    8|\n",
      "|    US|   78|   22|\n",
      "|Europe|   75|    6|\n",
      "|    US|   71|   20|\n",
      "|    US|   77|   18|\n",
      "| Japan|   70|    2|\n",
      "| Japan|   71|    4|\n",
      "+------+-----+-----+\n",
      "only showing top 20 rows\n",
      "\n"
     ]
    }
   ],
   "source": [
    "df.groupBy(\"Origin\", \"Model\").count().show()"
   ]
  },
  {
   "cell_type": "markdown",
   "id": "9cd59642",
   "metadata": {},
   "source": [
    "# Adding a temp column"
   ]
  },
  {
   "cell_type": "code",
   "execution_count": 23,
   "id": "31d01ac5",
   "metadata": {},
   "outputs": [
    {
     "name": "stdout",
     "output_type": "stream",
     "text": [
      "+--------------------+----+---------+------------+----------+------+------------+-----+------+-----------+------------+------------+\n",
      "|                 Car| MPG|Cylinders|Displacement|Horsepower|Weight|Acceleration|Model|Origin|Temp_column|Temp_column1|Temp_column3|\n",
      "+--------------------+----+---------+------------+----------+------+------------+-----+------+-----------+------------+------------+\n",
      "|Chevrolet Chevell...|18.0|        8|       307.0|     130.0|  3504|        12.0|   70|    US|          1|           2|           3|\n",
      "|   Buick Skylark 320|15.0|        8|       350.0|     165.0|  3693|        11.5|   70|    US|          1|           2|           3|\n",
      "|  Plymouth Satellite|18.0|        8|       318.0|     150.0|  3436|        11.0|   70|    US|          1|           2|           3|\n",
      "|       AMC Rebel SST|16.0|        8|       304.0|     150.0|  3433|        12.0|   70|    US|          1|           2|           3|\n",
      "|         Ford Torino|17.0|        8|       302.0|     140.0|  3449|        10.5|   70|    US|          1|           2|           3|\n",
      "|    Ford Galaxie 500|15.0|        8|       429.0|     198.0|  4341|        10.0|   70|    US|          1|           2|           3|\n",
      "|    Chevrolet Impala|14.0|        8|       454.0|     220.0|  4354|         9.0|   70|    US|          1|           2|           3|\n",
      "|   Plymouth Fury iii|14.0|        8|       440.0|     215.0|  4312|         8.5|   70|    US|          1|           2|           3|\n",
      "|    Pontiac Catalina|14.0|        8|       455.0|     225.0|  4425|        10.0|   70|    US|          1|           2|           3|\n",
      "|  AMC Ambassador DPL|15.0|        8|       390.0|     190.0|  3850|         8.5|   70|    US|          1|           2|           3|\n",
      "|Citroen DS-21 Pallas| 0.0|        4|       133.0|     115.0|  3090|        17.5|   70|Europe|          1|           2|           3|\n",
      "|Chevrolet Chevell...| 0.0|        8|       350.0|     165.0|  4142|        11.5|   70|    US|          1|           2|           3|\n",
      "|    Ford Torino (sw)| 0.0|        8|       351.0|     153.0|  4034|        11.0|   70|    US|          1|           2|           3|\n",
      "|Plymouth Satellit...| 0.0|        8|       383.0|     175.0|  4166|        10.5|   70|    US|          1|           2|           3|\n",
      "|  AMC Rebel SST (sw)| 0.0|        8|       360.0|     175.0|  3850|        11.0|   70|    US|          1|           2|           3|\n",
      "| Dodge Challenger SE|15.0|        8|       383.0|     170.0|  3563|        10.0|   70|    US|          1|           2|           3|\n",
      "|  Plymouth 'Cuda 340|14.0|        8|       340.0|     160.0|  3609|         8.0|   70|    US|          1|           2|           3|\n",
      "|Ford Mustang Boss...| 0.0|        8|       302.0|     140.0|  3353|         8.0|   70|    US|          1|           2|           3|\n",
      "|Chevrolet Monte C...|15.0|        8|       400.0|     150.0|  3761|         9.5|   70|    US|          1|           2|           3|\n",
      "|Buick Estate Wago...|14.0|        8|       455.0|     225.0|  3086|        10.0|   70|    US|          1|           2|           3|\n",
      "+--------------------+----+---------+------------+----------+------+------------+-----+------+-----------+------------+------------+\n",
      "only showing top 20 rows\n",
      "\n",
      "None\n"
     ]
    }
   ],
   "source": [
    "df = df.withColumn(\"Temp_column\", lit(1))\\\n",
    "       .withColumn(\"Temp_column1\", lit(2))\\\n",
    "       .withColumn(\"Temp_column3\", lit(3))\n",
    "print(df.show())"
   ]
  },
  {
   "cell_type": "markdown",
   "id": "59dbcfb6",
   "metadata": {},
   "source": [
    "# Removing Columns"
   ]
  },
  {
   "cell_type": "code",
   "execution_count": 24,
   "id": "c9e5ea04",
   "metadata": {},
   "outputs": [
    {
     "name": "stdout",
     "output_type": "stream",
     "text": [
      "+--------------------+----+---------+------------+----------+------+------------+-----+------+-----------+------------+------------+\n",
      "|                 Car| MPG|Cylinders|Displacement|Horsepower|Weight|Acceleration|Model|Origin|Temp_column|Temp_column1|Temp_column3|\n",
      "+--------------------+----+---------+------------+----------+------+------------+-----+------+-----------+------------+------------+\n",
      "|Chevrolet Chevell...|18.0|        8|       307.0|     130.0|  3504|        12.0|   70|    US|          1|           2|           3|\n",
      "|   Buick Skylark 320|15.0|        8|       350.0|     165.0|  3693|        11.5|   70|    US|          1|           2|           3|\n",
      "|  Plymouth Satellite|18.0|        8|       318.0|     150.0|  3436|        11.0|   70|    US|          1|           2|           3|\n",
      "|       AMC Rebel SST|16.0|        8|       304.0|     150.0|  3433|        12.0|   70|    US|          1|           2|           3|\n",
      "|         Ford Torino|17.0|        8|       302.0|     140.0|  3449|        10.5|   70|    US|          1|           2|           3|\n",
      "|    Ford Galaxie 500|15.0|        8|       429.0|     198.0|  4341|        10.0|   70|    US|          1|           2|           3|\n",
      "|    Chevrolet Impala|14.0|        8|       454.0|     220.0|  4354|         9.0|   70|    US|          1|           2|           3|\n",
      "|   Plymouth Fury iii|14.0|        8|       440.0|     215.0|  4312|         8.5|   70|    US|          1|           2|           3|\n",
      "|    Pontiac Catalina|14.0|        8|       455.0|     225.0|  4425|        10.0|   70|    US|          1|           2|           3|\n",
      "|  AMC Ambassador DPL|15.0|        8|       390.0|     190.0|  3850|         8.5|   70|    US|          1|           2|           3|\n",
      "|Citroen DS-21 Pallas| 0.0|        4|       133.0|     115.0|  3090|        17.5|   70|Europe|          1|           2|           3|\n",
      "|Chevrolet Chevell...| 0.0|        8|       350.0|     165.0|  4142|        11.5|   70|    US|          1|           2|           3|\n",
      "|    Ford Torino (sw)| 0.0|        8|       351.0|     153.0|  4034|        11.0|   70|    US|          1|           2|           3|\n",
      "|Plymouth Satellit...| 0.0|        8|       383.0|     175.0|  4166|        10.5|   70|    US|          1|           2|           3|\n",
      "|  AMC Rebel SST (sw)| 0.0|        8|       360.0|     175.0|  3850|        11.0|   70|    US|          1|           2|           3|\n",
      "| Dodge Challenger SE|15.0|        8|       383.0|     170.0|  3563|        10.0|   70|    US|          1|           2|           3|\n",
      "|  Plymouth 'Cuda 340|14.0|        8|       340.0|     160.0|  3609|         8.0|   70|    US|          1|           2|           3|\n",
      "|Ford Mustang Boss...| 0.0|        8|       302.0|     140.0|  3353|         8.0|   70|    US|          1|           2|           3|\n",
      "|Chevrolet Monte C...|15.0|        8|       400.0|     150.0|  3761|         9.5|   70|    US|          1|           2|           3|\n",
      "|Buick Estate Wago...|14.0|        8|       455.0|     225.0|  3086|        10.0|   70|    US|          1|           2|           3|\n",
      "+--------------------+----+---------+------------+----------+------+------------+-----+------+-----------+------------+------------+\n",
      "only showing top 20 rows\n",
      "\n"
     ]
    }
   ],
   "source": [
    "df.show() #Had to add this to the variable df so this drop reflects in the next table"
   ]
  },
  {
   "cell_type": "code",
   "execution_count": 25,
   "id": "7fb2b3f8",
   "metadata": {},
   "outputs": [
    {
     "name": "stdout",
     "output_type": "stream",
     "text": [
      "+--------------------+----+---------+------------+----------+------+------------+-----+------+------------+\n",
      "|                 Car| MPG|Cylinders|Displacement|Horsepower|Weight|Acceleration|Model|Origin|Temp_column3|\n",
      "+--------------------+----+---------+------------+----------+------+------------+-----+------+------------+\n",
      "|Chevrolet Chevell...|18.0|        8|       307.0|     130.0|  3504|        12.0|   70|    US|           3|\n",
      "|   Buick Skylark 320|15.0|        8|       350.0|     165.0|  3693|        11.5|   70|    US|           3|\n",
      "|  Plymouth Satellite|18.0|        8|       318.0|     150.0|  3436|        11.0|   70|    US|           3|\n",
      "|       AMC Rebel SST|16.0|        8|       304.0|     150.0|  3433|        12.0|   70|    US|           3|\n",
      "|         Ford Torino|17.0|        8|       302.0|     140.0|  3449|        10.5|   70|    US|           3|\n",
      "|    Ford Galaxie 500|15.0|        8|       429.0|     198.0|  4341|        10.0|   70|    US|           3|\n",
      "|    Chevrolet Impala|14.0|        8|       454.0|     220.0|  4354|         9.0|   70|    US|           3|\n",
      "|   Plymouth Fury iii|14.0|        8|       440.0|     215.0|  4312|         8.5|   70|    US|           3|\n",
      "|    Pontiac Catalina|14.0|        8|       455.0|     225.0|  4425|        10.0|   70|    US|           3|\n",
      "|  AMC Ambassador DPL|15.0|        8|       390.0|     190.0|  3850|         8.5|   70|    US|           3|\n",
      "|Citroen DS-21 Pallas| 0.0|        4|       133.0|     115.0|  3090|        17.5|   70|Europe|           3|\n",
      "|Chevrolet Chevell...| 0.0|        8|       350.0|     165.0|  4142|        11.5|   70|    US|           3|\n",
      "|    Ford Torino (sw)| 0.0|        8|       351.0|     153.0|  4034|        11.0|   70|    US|           3|\n",
      "|Plymouth Satellit...| 0.0|        8|       383.0|     175.0|  4166|        10.5|   70|    US|           3|\n",
      "|  AMC Rebel SST (sw)| 0.0|        8|       360.0|     175.0|  3850|        11.0|   70|    US|           3|\n",
      "| Dodge Challenger SE|15.0|        8|       383.0|     170.0|  3563|        10.0|   70|    US|           3|\n",
      "|  Plymouth 'Cuda 340|14.0|        8|       340.0|     160.0|  3609|         8.0|   70|    US|           3|\n",
      "|Ford Mustang Boss...| 0.0|        8|       302.0|     140.0|  3353|         8.0|   70|    US|           3|\n",
      "|Chevrolet Monte C...|15.0|        8|       400.0|     150.0|  3761|         9.5|   70|    US|           3|\n",
      "|Buick Estate Wago...|14.0|        8|       455.0|     225.0|  3086|        10.0|   70|    US|           3|\n",
      "+--------------------+----+---------+------------+----------+------+------------+-----+------+------------+\n",
      "only showing top 20 rows\n",
      "\n",
      "None\n"
     ]
    }
   ],
   "source": [
    "df = df.drop(\"Temp_column\", \"Temp_column1\")\n",
    "print(df.show())\n"
   ]
  },
  {
   "cell_type": "markdown",
   "id": "f3d0facc",
   "metadata": {},
   "source": [
    "# Filtering Rows"
   ]
  },
  {
   "cell_type": "code",
   "execution_count": 26,
   "id": "09677528",
   "metadata": {},
   "outputs": [
    {
     "name": "stdout",
     "output_type": "stream",
     "text": [
      "TOTAL RECORD COUNT: 406\n",
      "EUROPE FILTERED RECORD COUNT: 73\n",
      "+----------------------------+----+---------+------------+----------+------+------------+-----+------+------------+\n",
      "|Car                         |MPG |Cylinders|Displacement|Horsepower|Weight|Acceleration|Model|Origin|Temp_column3|\n",
      "+----------------------------+----+---------+------------+----------+------+------------+-----+------+------------+\n",
      "|Citroen DS-21 Pallas        |0.0 |4        |133.0       |115.0     |3090  |17.5        |70   |Europe|3           |\n",
      "|Volkswagen 1131 Deluxe Sedan|26.0|4        |97.0        |46.0      |1835  |20.5        |70   |Europe|3           |\n",
      "|Peugeot 504                 |25.0|4        |110.0       |87.0      |2672  |17.5        |70   |Europe|3           |\n",
      "|Audi 100 LS                 |24.0|4        |107.0       |90.0      |2430  |14.5        |70   |Europe|3           |\n",
      "|Saab 99e                    |25.0|4        |104.0       |95.0      |2375  |17.5        |70   |Europe|3           |\n",
      "|BMW 2002                    |26.0|4        |121.0       |113.0     |2234  |12.5        |70   |Europe|3           |\n",
      "|Volkswagen Super Beetle 117 |0.0 |4        |97.0        |48.0      |1978  |20.0        |71   |Europe|3           |\n",
      "|Opel 1900                   |28.0|4        |116.0       |90.0      |2123  |14.0        |71   |Europe|3           |\n",
      "|Peugeot 304                 |30.0|4        |79.0        |70.0      |2074  |19.5        |71   |Europe|3           |\n",
      "|Fiat 124B                   |30.0|4        |88.0        |76.0      |2065  |14.5        |71   |Europe|3           |\n",
      "|Volkswagen Model 111        |27.0|4        |97.0        |60.0      |1834  |19.0        |71   |Europe|3           |\n",
      "|Volkswagen Type 3           |23.0|4        |97.0        |54.0      |2254  |23.5        |72   |Europe|3           |\n",
      "|Volvo 145e (sw)             |18.0|4        |121.0       |112.0     |2933  |14.5        |72   |Europe|3           |\n",
      "|Volkswagen 411 (sw)         |22.0|4        |121.0       |76.0      |2511  |18.0        |72   |Europe|3           |\n",
      "|Peugeot 504 (sw)            |21.0|4        |120.0       |87.0      |2979  |19.5        |72   |Europe|3           |\n",
      "|Renault 12 (sw)             |26.0|4        |96.0        |69.0      |2189  |18.0        |72   |Europe|3           |\n",
      "|Volkswagen Super Beetle     |26.0|4        |97.0        |46.0      |1950  |21.0        |73   |Europe|3           |\n",
      "|Fiat 124 Sport Coupe        |26.0|4        |98.0        |90.0      |2265  |15.5        |73   |Europe|3           |\n",
      "|Fiat 128                    |29.0|4        |68.0        |49.0      |1867  |19.5        |73   |Europe|3           |\n",
      "|Opel Manta                  |24.0|4        |116.0       |75.0      |2158  |15.5        |73   |Europe|3           |\n",
      "+----------------------------+----+---------+------------+----------+------+------------+-----+------+------------+\n",
      "only showing top 20 rows\n",
      "\n"
     ]
    }
   ],
   "source": [
    "total_count = df.count()\n",
    "print(\"TOTAL RECORD COUNT: \" + str(total_count))\n",
    "europe_filtered_count = df.filter(col('Origin')=='Europe').count()\n",
    "print(\"EUROPE FILTERED RECORD COUNT: \" + str(europe_filtered_count))\n",
    "df.filter(col('Origin')=='Europe').show(truncate=False)"
   ]
  },
  {
   "cell_type": "code",
   "execution_count": 27,
   "id": "36ccafdd",
   "metadata": {},
   "outputs": [
    {
     "name": "stdout",
     "output_type": "stream",
     "text": [
      "TOTAL RECORD COUNT: 406\n",
      "EUROPE FILTERED RECORD COUNT: 66\n",
      "+----------------------------+----+---------+------------+----------+------+------------+-----+------+------------+\n",
      "|Car                         |MPG |Cylinders|Displacement|Horsepower|Weight|Acceleration|Model|Origin|Temp_column3|\n",
      "+----------------------------+----+---------+------------+----------+------+------------+-----+------+------------+\n",
      "|Citroen DS-21 Pallas        |0.0 |4        |133.0       |115.0     |3090  |17.5        |70   |Europe|3           |\n",
      "|Volkswagen 1131 Deluxe Sedan|26.0|4        |97.0        |46.0      |1835  |20.5        |70   |Europe|3           |\n",
      "|Peugeot 504                 |25.0|4        |110.0       |87.0      |2672  |17.5        |70   |Europe|3           |\n",
      "|Audi 100 LS                 |24.0|4        |107.0       |90.0      |2430  |14.5        |70   |Europe|3           |\n",
      "|Saab 99e                    |25.0|4        |104.0       |95.0      |2375  |17.5        |70   |Europe|3           |\n",
      "|BMW 2002                    |26.0|4        |121.0       |113.0     |2234  |12.5        |70   |Europe|3           |\n",
      "|Volkswagen Super Beetle 117 |0.0 |4        |97.0        |48.0      |1978  |20.0        |71   |Europe|3           |\n",
      "|Opel 1900                   |28.0|4        |116.0       |90.0      |2123  |14.0        |71   |Europe|3           |\n",
      "|Peugeot 304                 |30.0|4        |79.0        |70.0      |2074  |19.5        |71   |Europe|3           |\n",
      "|Fiat 124B                   |30.0|4        |88.0        |76.0      |2065  |14.5        |71   |Europe|3           |\n",
      "|Volkswagen Model 111        |27.0|4        |97.0        |60.0      |1834  |19.0        |71   |Europe|3           |\n",
      "|Volkswagen Type 3           |23.0|4        |97.0        |54.0      |2254  |23.5        |72   |Europe|3           |\n",
      "|Volvo 145e (sw)             |18.0|4        |121.0       |112.0     |2933  |14.5        |72   |Europe|3           |\n",
      "|Volkswagen 411 (sw)         |22.0|4        |121.0       |76.0      |2511  |18.0        |72   |Europe|3           |\n",
      "|Peugeot 504 (sw)            |21.0|4        |120.0       |87.0      |2979  |19.5        |72   |Europe|3           |\n",
      "|Renault 12 (sw)             |26.0|4        |96.0        |69.0      |2189  |18.0        |72   |Europe|3           |\n",
      "|Volkswagen Super Beetle     |26.0|4        |97.0        |46.0      |1950  |21.0        |73   |Europe|3           |\n",
      "|Fiat 124 Sport Coupe        |26.0|4        |98.0        |90.0      |2265  |15.5        |73   |Europe|3           |\n",
      "|Fiat 128                    |29.0|4        |68.0        |49.0      |1867  |19.5        |73   |Europe|3           |\n",
      "|Opel Manta                  |24.0|4        |116.0       |75.0      |2158  |15.5        |73   |Europe|3           |\n",
      "+----------------------------+----+---------+------------+----------+------+------------+-----+------+------------+\n",
      "only showing top 20 rows\n",
      "\n"
     ]
    }
   ],
   "source": [
    "total_count = df.count()\n",
    "print(\"TOTAL RECORD COUNT: \" + str(total_count))\n",
    "europe_filtered_count = df.filter((col('Origin')=='Europe') &\n",
    "                                  (col('Cylinders')==4)).count() # Two conditions added here\n",
    "print(\"EUROPE FILTERED RECORD COUNT: \" + str(europe_filtered_count))\n",
    "df.filter(col('Origin')=='Europe').show(truncate=False)"
   ]
  },
  {
   "cell_type": "markdown",
   "id": "44306e85",
   "metadata": {},
   "source": [
    "# Unique rows"
   ]
  },
  {
   "cell_type": "code",
   "execution_count": 28,
   "id": "24453164",
   "metadata": {},
   "outputs": [
    {
     "name": "stdout",
     "output_type": "stream",
     "text": [
      "+---------+\n",
      "|Cylinders|\n",
      "+---------+\n",
      "|        6|\n",
      "|        3|\n",
      "|        5|\n",
      "|        4|\n",
      "|        8|\n",
      "+---------+\n",
      "\n"
     ]
    }
   ],
   "source": [
    "df.select(\"Cylinders\").distinct().show()"
   ]
  },
  {
   "cell_type": "markdown",
   "id": "7e5a3c51",
   "metadata": {},
   "source": [
    "# Unique rows with multiple columns"
   ]
  },
  {
   "cell_type": "code",
   "execution_count": 29,
   "id": "44b0c735",
   "metadata": {},
   "outputs": [
    {
     "name": "stdout",
     "output_type": "stream",
     "text": [
      "+---------+------------+\n",
      "|Cylinders|Acceleration|\n",
      "+---------+------------+\n",
      "|        6|        15.5|\n",
      "|        4|        15.6|\n",
      "|        8|        12.8|\n",
      "|        8|        17.4|\n",
      "|        6|        16.5|\n",
      "|        8|        15.5|\n",
      "|        5|        19.9|\n",
      "|        4|        20.4|\n",
      "|        6|        14.5|\n",
      "|        6|        16.7|\n",
      "|        8|        22.2|\n",
      "|        4|        19.2|\n",
      "|        4|        12.8|\n",
      "|        4|        15.3|\n",
      "|        6|        11.3|\n",
      "|        4|        18.3|\n",
      "|        6|        17.1|\n",
      "|        8|        19.0|\n",
      "|        4|        13.5|\n",
      "|        6|        13.0|\n",
      "+---------+------------+\n",
      "only showing top 20 rows\n",
      "\n"
     ]
    }
   ],
   "source": [
    "df.select(\"Cylinders\", \"Acceleration\").distinct().show()"
   ]
  },
  {
   "cell_type": "markdown",
   "id": "0ba9fd00",
   "metadata": {},
   "source": [
    "# Using Order by, this will be ascending by default"
   ]
  },
  {
   "cell_type": "code",
   "execution_count": 30,
   "id": "5cb0b4eb",
   "metadata": {},
   "outputs": [
    {
     "name": "stdout",
     "output_type": "stream",
     "text": [
      "+--------------------+----+---------+------------+----------+------+------------+-----+------+------------+\n",
      "|                 Car| MPG|Cylinders|Displacement|Horsepower|Weight|Acceleration|Model|Origin|Temp_column3|\n",
      "+--------------------+----+---------+------------+----------+------+------------+-----+------+------------+\n",
      "|     Mazda RX2 Coupe|19.0|        3|        70.0|      97.0|  2330|        13.5|   72| Japan|           3|\n",
      "|           Mazda RX3|18.0|        3|        70.0|      90.0|  2124|        13.5|   73| Japan|           3|\n",
      "|          Mazda RX-4|21.5|        3|        80.0|     110.0|  2720|        13.5|   77| Japan|           3|\n",
      "|       Mazda RX-7 GS|23.7|        3|        70.0|     100.0|  2420|        12.5|   80| Japan|           3|\n",
      "|     Datsun 510 (sw)|28.0|        4|        97.0|      92.0|  2288|        17.0|   72| Japan|           3|\n",
      "|  Mercury Capri 2000|23.0|        4|       122.0|      86.0|  2220|        14.0|   71|    US|           3|\n",
      "| Chevrolet Vega (sw)|22.0|        4|       140.0|      72.0|  2408|        19.0|   71|    US|           3|\n",
      "|           Opel 1900|28.0|        4|       116.0|      90.0|  2123|        14.0|   71|Europe|           3|\n",
      "|Volkswagen 1131 D...|26.0|        4|        97.0|      46.0|  1835|        20.5|   70|Europe|           3|\n",
      "|         Peugeot 304|30.0|        4|        79.0|      70.0|  2074|        19.5|   71|Europe|           3|\n",
      "|         Audi 100 LS|24.0|        4|       107.0|      90.0|  2430|        14.5|   70|Europe|           3|\n",
      "|           Fiat 124B|30.0|        4|        88.0|      76.0|  2065|        14.5|   71|Europe|           3|\n",
      "|            BMW 2002|26.0|        4|       121.0|     113.0|  2234|        12.5|   70|Europe|           3|\n",
      "| Toyota Corolla 1200|31.0|        4|        71.0|      65.0|  1773|        19.0|   71| Japan|           3|\n",
      "| Chevrolet Vega 2300|28.0|        4|       140.0|      90.0|  2264|        15.5|   71|    US|           3|\n",
      "|         Datsun 1200|35.0|        4|        72.0|      69.0|  1613|        18.0|   71| Japan|           3|\n",
      "|          Ford Pinto|25.0|        4|        98.0|       0.0|  2046|        19.0|   71|    US|           3|\n",
      "|Volkswagen Model 111|27.0|        4|        97.0|      60.0|  1834|        19.0|   71|Europe|           3|\n",
      "|  Dodge Colt Hardtop|25.0|        4|        97.5|      80.0|  2126|        17.0|   72|    US|           3|\n",
      "|   Volkswagen Type 3|23.0|        4|        97.0|      54.0|  2254|        23.5|   72|Europe|           3|\n",
      "+--------------------+----+---------+------------+----------+------+------------+-----+------+------------+\n",
      "only showing top 20 rows\n",
      "\n"
     ]
    }
   ],
   "source": [
    "df.orderBy(\"Cylinders\").show()"
   ]
  },
  {
   "cell_type": "code",
   "execution_count": 31,
   "id": "6b0baa2e",
   "metadata": {},
   "outputs": [
    {
     "name": "stdout",
     "output_type": "stream",
     "text": [
      "+--------------------+----+---------+------------+----------+------+------------+-----+------+------------+\n",
      "|                 Car| MPG|Cylinders|Displacement|Horsepower|Weight|Acceleration|Model|Origin|Temp_column3|\n",
      "+--------------------+----+---------+------------+----------+------+------------+-----+------+------------+\n",
      "|Chevrolet Chevell...|18.0|        8|       307.0|     130.0|  3504|        12.0|   70|    US|           3|\n",
      "|   Buick Skylark 320|15.0|        8|       350.0|     165.0|  3693|        11.5|   70|    US|           3|\n",
      "|  Plymouth Satellite|18.0|        8|       318.0|     150.0|  3436|        11.0|   70|    US|           3|\n",
      "|       AMC Rebel SST|16.0|        8|       304.0|     150.0|  3433|        12.0|   70|    US|           3|\n",
      "|         Ford Torino|17.0|        8|       302.0|     140.0|  3449|        10.5|   70|    US|           3|\n",
      "+--------------------+----+---------+------------+----------+------+------------+-----+------+------------+\n",
      "only showing top 5 rows\n",
      "\n"
     ]
    }
   ],
   "source": [
    "df.orderBy(\"Cylinders\", ascending=False).show(n=5) #revoking the ascending function"
   ]
  },
  {
   "cell_type": "markdown",
   "id": "beca21e3",
   "metadata": {},
   "source": [
    "# Using groupBy aand orderBy together"
   ]
  },
  {
   "cell_type": "code",
   "execution_count": 33,
   "id": "fb8d76a4",
   "metadata": {},
   "outputs": [
    {
     "name": "stdout",
     "output_type": "stream",
     "text": [
      "+------+-----+\n",
      "|Origin|count|\n",
      "+------+-----+\n",
      "|Europe|   73|\n",
      "| Japan|   79|\n",
      "|    US|  254|\n",
      "+------+-----+\n",
      "\n"
     ]
    }
   ],
   "source": [
    " df.groupBy(\"Origin\").count().orderBy('count').show()"
   ]
  },
  {
   "cell_type": "markdown",
   "id": "202378de",
   "metadata": {},
   "source": [
    "# Union Dataframes"
   ]
  },
  {
   "cell_type": "markdown",
   "id": "f10d3a38",
   "metadata": {},
   "source": [
    "You will see three main methods for performing union of dataframes. It is important to know the difference between them and which one is preferred:\n",
    "\n",
    "#union() – It is used to merge two DataFrames of the same structure/schema. If schemas are not the same, it returns an error.\n",
    "\n",
    "#unionAll() – This function is deprecated since Spark 2.0.0, and replaced with union()\n",
    "\n",
    "#unionByName() - This function is used to merge two dataframes based on column name."
   ]
  },
  {
   "cell_type": "code",
   "execution_count": 34,
   "id": "4472903b",
   "metadata": {},
   "outputs": [
    {
     "name": "stdout",
     "output_type": "stream",
     "text": [
      "European Cars : 66\n",
      "Japanese Cars: 0\n",
      "After union :66\n"
     ]
    }
   ],
   "source": [
    "ECARS = df.filter((col(\"Origin\")==\"Europe\") & (col(\"Cylinders\")== 4)) #with multiple conditions\n",
    "JCARS = df.filter((col(\"Origin\")==\"Japan\") & (col(\"Cylinders\")== 5)) ##with multiple conditions\n",
    "print(\"European Cars : \" + str(ECARS.count()))\n",
    "print(\"Japanese Cars: \" + str(JCARS.count()))\n",
    "print(\"After union :\" +str(ECARS.union(JCARS).count()))"
   ]
  },
  {
   "cell_type": "markdown",
   "id": "60dd1928",
   "metadata": {},
   "source": [
    "# Another easy example of union join"
   ]
  },
  {
   "cell_type": "code",
   "execution_count": 35,
   "id": "a1274c1c",
   "metadata": {},
   "outputs": [
    {
     "name": "stdout",
     "output_type": "stream",
     "text": [
      "+--------------------+----+---------+------------+----------+------+------------+-----+------+------------+\n",
      "|                 Car| MPG|Cylinders|Displacement|Horsepower|Weight|Acceleration|Model|Origin|Temp_column3|\n",
      "+--------------------+----+---------+------------+----------+------+------------+-----+------+------------+\n",
      "|Chevrolet Chevell...|18.0|        8|       307.0|     130.0|  3504|        12.0|   70|    US|           3|\n",
      "|   Buick Skylark 320|15.0|        8|       350.0|     165.0|  3693|        11.5|   70|    US|           3|\n",
      "|  Plymouth Satellite|18.0|        8|       318.0|     150.0|  3436|        11.0|   70|    US|           3|\n",
      "|       AMC Rebel SST|16.0|        8|       304.0|     150.0|  3433|        12.0|   70|    US|           3|\n",
      "|         Ford Torino|17.0|        8|       302.0|     140.0|  3449|        10.5|   70|    US|           3|\n",
      "|    Ford Galaxie 500|15.0|        8|       429.0|     198.0|  4341|        10.0|   70|    US|           3|\n",
      "|    Chevrolet Impala|14.0|        8|       454.0|     220.0|  4354|         9.0|   70|    US|           3|\n",
      "|   Plymouth Fury iii|14.0|        8|       440.0|     215.0|  4312|         8.5|   70|    US|           3|\n",
      "|    Pontiac Catalina|14.0|        8|       455.0|     225.0|  4425|        10.0|   70|    US|           3|\n",
      "|  AMC Ambassador DPL|15.0|        8|       390.0|     190.0|  3850|         8.5|   70|    US|           3|\n",
      "|Citroen DS-21 Pallas| 0.0|        4|       133.0|     115.0|  3090|        17.5|   70|Europe|           3|\n",
      "|Chevrolet Chevell...| 0.0|        8|       350.0|     165.0|  4142|        11.5|   70|    US|           3|\n",
      "|    Ford Torino (sw)| 0.0|        8|       351.0|     153.0|  4034|        11.0|   70|    US|           3|\n",
      "|Plymouth Satellit...| 0.0|        8|       383.0|     175.0|  4166|        10.5|   70|    US|           3|\n",
      "|  AMC Rebel SST (sw)| 0.0|        8|       360.0|     175.0|  3850|        11.0|   70|    US|           3|\n",
      "| Dodge Challenger SE|15.0|        8|       383.0|     170.0|  3563|        10.0|   70|    US|           3|\n",
      "|  Plymouth 'Cuda 340|14.0|        8|       340.0|     160.0|  3609|         8.0|   70|    US|           3|\n",
      "|Ford Mustang Boss...| 0.0|        8|       302.0|     140.0|  3353|         8.0|   70|    US|           3|\n",
      "|Chevrolet Monte C...|15.0|        8|       400.0|     150.0|  3761|         9.5|   70|    US|           3|\n",
      "|Buick Estate Wago...|14.0|        8|       455.0|     225.0|  3086|        10.0|   70|    US|           3|\n",
      "+--------------------+----+---------+------------+----------+------+------------+-----+------+------------+\n",
      "only showing top 20 rows\n",
      "\n"
     ]
    }
   ],
   "source": [
    "df1 =df.filter(col(\"Origin\")== \"Japan\")\n",
    "df2 = df.filter(col(\"weight\")== 2330)\n",
    "df.union(df2).show()"
   ]
  },
  {
   "cell_type": "markdown",
   "id": "4db50983",
   "metadata": {},
   "source": [
    "# CASE 1: Union When columns are not in order"
   ]
  },
  {
   "cell_type": "markdown",
   "id": "42939521",
   "metadata": {},
   "source": [
    "# Creating two dataframes with jumbled columns"
   ]
  },
  {
   "cell_type": "code",
   "execution_count": 36,
   "id": "eeb6d276",
   "metadata": {},
   "outputs": [
    {
     "name": "stdout",
     "output_type": "stream",
     "text": [
      "+-----------+----+--------+\n",
      "|       col0|col1|    col2|\n",
      "+-----------+----+--------+\n",
      "|      Apple|Ball|     cat|\n",
      "|Caterpillar| Ant|Baseball|\n",
      "+-----------+----+--------+\n",
      "\n"
     ]
    }
   ],
   "source": [
    "df1 = spark.createDataFrame([[\"Apple\", \"Ball\", \"cat\"]], [\"col0\", \"col1\", \"col2\"])\n",
    "df2 = spark.createDataFrame([[\"Ant\", \"Baseball\", \"Caterpillar\"]], [\"col1\", \"col2\", \"col0\"])\n",
    "df1.unionByName(df2).show()"
   ]
  },
  {
   "cell_type": "code",
   "execution_count": 87,
   "id": "e6b9640b",
   "metadata": {},
   "outputs": [
    {
     "name": "stdout",
     "output_type": "stream",
     "text": [
      "+--------------------+----+---------+------------+----------+------+------------+-----+------+------------+\n",
      "|                 Car| MPG|Cylinders|Displacement|Horsepower|Weight|Acceleration|Model|Origin|Temp_column3|\n",
      "+--------------------+----+---------+------------+----------+------+------------+-----+------+------------+\n",
      "|Chevrolet Chevell...|18.0|        8|       307.0|     130.0|  3504|        12.0|   70|    US|           3|\n",
      "|   Buick Skylark 320|15.0|        8|       350.0|     165.0|  3693|        11.5|   70|    US|           3|\n",
      "|  Plymouth Satellite|18.0|        8|       318.0|     150.0|  3436|        11.0|   70|    US|           3|\n",
      "|       AMC Rebel SST|16.0|        8|       304.0|     150.0|  3433|        12.0|   70|    US|           3|\n",
      "|         Ford Torino|17.0|        8|       302.0|     140.0|  3449|        10.5|   70|    US|           3|\n",
      "|    Ford Galaxie 500|15.0|        8|       429.0|     198.0|  4341|        10.0|   70|    US|           3|\n",
      "|    Chevrolet Impala|14.0|        8|       454.0|     220.0|  4354|         9.0|   70|    US|           3|\n",
      "|   Plymouth Fury iii|14.0|        8|       440.0|     215.0|  4312|         8.5|   70|    US|           3|\n",
      "|    Pontiac Catalina|14.0|        8|       455.0|     225.0|  4425|        10.0|   70|    US|           3|\n",
      "|  AMC Ambassador DPL|15.0|        8|       390.0|     190.0|  3850|         8.5|   70|    US|           3|\n",
      "|Citroen DS-21 Pallas| 0.0|        4|       133.0|     115.0|  3090|        17.5|   70|Europe|           3|\n",
      "|Chevrolet Chevell...| 0.0|        8|       350.0|     165.0|  4142|        11.5|   70|    US|           3|\n",
      "|    Ford Torino (sw)| 0.0|        8|       351.0|     153.0|  4034|        11.0|   70|    US|           3|\n",
      "|Plymouth Satellit...| 0.0|        8|       383.0|     175.0|  4166|        10.5|   70|    US|           3|\n",
      "|  AMC Rebel SST (sw)| 0.0|        8|       360.0|     175.0|  3850|        11.0|   70|    US|           3|\n",
      "| Dodge Challenger SE|15.0|        8|       383.0|     170.0|  3563|        10.0|   70|    US|           3|\n",
      "|  Plymouth 'Cuda 340|14.0|        8|       340.0|     160.0|  3609|         8.0|   70|    US|           3|\n",
      "|Ford Mustang Boss...| 0.0|        8|       302.0|     140.0|  3353|         8.0|   70|    US|           3|\n",
      "|Chevrolet Monte C...|15.0|        8|       400.0|     150.0|  3761|         9.5|   70|    US|           3|\n",
      "|Buick Estate Wago...|14.0|        8|       455.0|     225.0|  3086|        10.0|   70|    US|           3|\n",
      "+--------------------+----+---------+------------+----------+------+------------+-----+------+------------+\n",
      "only showing top 20 rows\n",
      "\n"
     ]
    }
   ],
   "source": [
    "df.show()"
   ]
  },
  {
   "cell_type": "markdown",
   "id": "37a9d2f6",
   "metadata": {},
   "source": [
    "# Functions in Pyspark"
   ]
  },
  {
   "cell_type": "code",
   "execution_count": 37,
   "id": "7b0e7f29",
   "metadata": {},
   "outputs": [],
   "source": [
    "from pyspark.sql import functions "
   ]
  },
  {
   "cell_type": "code",
   "execution_count": 38,
   "id": "329ac60d",
   "metadata": {},
   "outputs": [
    {
     "name": "stdout",
     "output_type": "stream",
     "text": [
      "['Any', 'ArrayType', 'Callable', 'Column', 'DataFrame', 'DataType', 'Dict', 'Iterable', 'JVMView', 'List', 'Optional', 'PandasUDFType', 'PySparkTypeError', 'PySparkValueError', 'SparkContext', 'StringType', 'StructType', 'TYPE_CHECKING', 'Tuple', 'Type', 'Union', 'UserDefinedFunction', 'UserDefinedTableFunction', 'ValuesView', '__builtins__', '__cached__', '__doc__', '__file__', '__loader__', '__name__', '__package__', '__spec__', '_create_column_from_literal', '_create_lambda', '_create_py_udf', '_create_py_udtf', '_from_numpy_type', '_get_jvm_function', '_get_lambda_parameters', '_invoke_binary_math_function', '_invoke_function', '_invoke_function_over_columns', '_invoke_function_over_seq_of_columns', '_invoke_higher_order_function', '_options_to_str', '_test', '_to_java_column', '_to_seq', '_unresolved_named_lambda_variable', 'abs', 'acos', 'acosh', 'add_months', 'aes_decrypt', 'aes_encrypt', 'aggregate', 'any_value', 'approxCountDistinct', 'approx_count_distinct', 'approx_percentile', 'array', 'array_agg', 'array_append', 'array_compact', 'array_contains', 'array_distinct', 'array_except', 'array_insert', 'array_intersect', 'array_join', 'array_max', 'array_min', 'array_position', 'array_prepend', 'array_remove', 'array_repeat', 'array_size', 'array_sort', 'array_union', 'arrays_overlap', 'arrays_zip', 'asc', 'asc_nulls_first', 'asc_nulls_last', 'ascii', 'asin', 'asinh', 'assert_true', 'atan', 'atan2', 'atanh', 'avg', 'base64', 'bin', 'bit_and', 'bit_count', 'bit_get', 'bit_length', 'bit_or', 'bit_xor', 'bitmap_bit_position', 'bitmap_bucket_number', 'bitmap_construct_agg', 'bitmap_count', 'bitmap_or_agg', 'bitwiseNOT', 'bitwise_not', 'bool_and', 'bool_or', 'broadcast', 'bround', 'btrim', 'bucket', 'call_function', 'call_udf', 'cardinality', 'cast', 'cbrt', 'ceil', 'ceiling', 'char', 'char_length', 'character_length', 'coalesce', 'col', 'collect_list', 'collect_set', 'column', 'concat', 'concat_ws', 'contains', 'conv', 'convert_timezone', 'corr', 'cos', 'cosh', 'cot', 'count', 'countDistinct', 'count_distinct', 'count_if', 'count_min_sketch', 'covar_pop', 'covar_samp', 'crc32', 'create_map', 'csc', 'cume_dist', 'curdate', 'current_catalog', 'current_database', 'current_date', 'current_schema', 'current_timestamp', 'current_timezone', 'current_user', 'date_add', 'date_diff', 'date_format', 'date_from_unix_date', 'date_part', 'date_sub', 'date_trunc', 'dateadd', 'datediff', 'datepart', 'day', 'dayofmonth', 'dayofweek', 'dayofyear', 'days', 'decimal', 'decode', 'degrees', 'dense_rank', 'desc', 'desc_nulls_first', 'desc_nulls_last', 'e', 'element_at', 'elt', 'encode', 'endswith', 'equal_null', 'every', 'exists', 'exp', 'explode', 'explode_outer', 'expm1', 'expr', 'extract', 'factorial', 'filter', 'find_in_set', 'first', 'first_value', 'flatten', 'floor', 'forall', 'format_number', 'format_string', 'from_csv', 'from_json', 'from_unixtime', 'from_utc_timestamp', 'functools', 'get', 'get_active_spark_context', 'get_json_object', 'getbit', 'greatest', 'grouping', 'grouping_id', 'has_numpy', 'hash', 'hex', 'histogram_numeric', 'hll_sketch_agg', 'hll_sketch_estimate', 'hll_union', 'hll_union_agg', 'hour', 'hours', 'hypot', 'ifnull', 'ilike', 'initcap', 'inline', 'inline_outer', 'input_file_block_length', 'input_file_block_start', 'input_file_name', 'inspect', 'instr', 'isnan', 'isnotnull', 'isnull', 'java_method', 'json_array_length', 'json_object_keys', 'json_tuple', 'kurtosis', 'lag', 'last', 'last_day', 'last_value', 'lcase', 'lead', 'least', 'left', 'length', 'levenshtein', 'like', 'lit', 'ln', 'localtimestamp', 'locate', 'log', 'log10', 'log1p', 'log2', 'lower', 'lpad', 'ltrim', 'make_date', 'make_dt_interval', 'make_interval', 'make_timestamp', 'make_timestamp_ltz', 'make_timestamp_ntz', 'make_ym_interval', 'map_concat', 'map_contains_key', 'map_entries', 'map_filter', 'map_from_arrays', 'map_from_entries', 'map_keys', 'map_values', 'map_zip_with', 'mask', 'max', 'max_by', 'md5', 'mean', 'median', 'min', 'min_by', 'minute', 'mode', 'monotonically_increasing_id', 'month', 'months', 'months_between', 'named_struct', 'nanvl', 'negate', 'negative', 'next_day', 'now', 'np', 'nth_value', 'ntile', 'nullif', 'nvl', 'nvl2', 'octet_length', 'overlay', 'overload', 'pandas_udf', 'parse_url', 'percent_rank', 'percentile', 'percentile_approx', 'pi', 'pmod', 'posexplode', 'posexplode_outer', 'position', 'positive', 'pow', 'power', 'printf', 'product', 'quarter', 'radians', 'raise_error', 'rand', 'randn', 'rank', 'reduce', 'reflect', 'regexp', 'regexp_count', 'regexp_extract', 'regexp_extract_all', 'regexp_instr', 'regexp_like', 'regexp_replace', 'regexp_substr', 'regr_avgx', 'regr_avgy', 'regr_count', 'regr_intercept', 'regr_r2', 'regr_slope', 'regr_sxx', 'regr_sxy', 'regr_syy', 'repeat', 'replace', 'reverse', 'right', 'rint', 'rlike', 'round', 'row_number', 'rpad', 'rtrim', 'schema_of_csv', 'schema_of_json', 'sec', 'second', 'sentences', 'sequence', 'session_window', 'sha', 'sha1', 'sha2', 'shiftLeft', 'shiftRight', 'shiftRightUnsigned', 'shiftleft', 'shiftright', 'shiftrightunsigned', 'shuffle', 'sign', 'signum', 'sin', 'sinh', 'size', 'skewness', 'slice', 'some', 'sort_array', 'soundex', 'spark_partition_id', 'split', 'split_part', 'sqrt', 'stack', 'startswith', 'std', 'stddev', 'stddev_pop', 'stddev_samp', 'str_to_map', 'struct', 'substr', 'substring', 'substring_index', 'sum', 'sumDistinct', 'sum_distinct', 'sys', 'tan', 'tanh', 'timestamp_micros', 'timestamp_millis', 'timestamp_seconds', 'toDegrees', 'toRadians', 'to_binary', 'to_char', 'to_csv', 'to_date', 'to_json', 'to_number', 'to_str', 'to_timestamp', 'to_timestamp_ltz', 'to_timestamp_ntz', 'to_unix_timestamp', 'to_utc_timestamp', 'to_varchar', 'transform', 'transform_keys', 'transform_values', 'translate', 'trim', 'trunc', 'try_add', 'try_aes_decrypt', 'try_avg', 'try_divide', 'try_element_at', 'try_multiply', 'try_remote_functions', 'try_subtract', 'try_sum', 'try_to_binary', 'try_to_number', 'try_to_timestamp', 'typeof', 'ucase', 'udf', 'udtf', 'unbase64', 'unhex', 'unix_date', 'unix_micros', 'unix_millis', 'unix_seconds', 'unix_timestamp', 'unwrap_udt', 'upper', 'url_decode', 'url_encode', 'user', 'var_pop', 'var_samp', 'variance', 'version', 'warnings', 'weekday', 'weekofyear', 'when', 'width_bucket', 'window', 'window_time', 'xpath', 'xpath_boolean', 'xpath_double', 'xpath_float', 'xpath_int', 'xpath_long', 'xpath_number', 'xpath_short', 'xpath_string', 'xxhash64', 'year', 'years', 'zip_with']\n"
     ]
    }
   ],
   "source": [
    "print(dir(functions))"
   ]
  },
  {
   "cell_type": "code",
   "execution_count": 2,
   "id": "823c46e9",
   "metadata": {},
   "outputs": [
    {
     "name": "stdout",
     "output_type": "stream",
     "text": [
      "Help on function substring in module pyspark.sql.functions:\n",
      "\n",
      "substring(str: 'ColumnOrName', pos: int, len: int) -> pyspark.sql.column.Column\n",
      "    Substring starts at `pos` and is of length `len` when str is String type or\n",
      "    returns the slice of byte array that starts at `pos` in byte and is of length `len`\n",
      "    when str is Binary type.\n",
      "    \n",
      "    .. versionadded:: 1.5.0\n",
      "    \n",
      "    .. versionchanged:: 3.4.0\n",
      "        Supports Spark Connect.\n",
      "    \n",
      "    Notes\n",
      "    -----\n",
      "    The position is not zero based, but 1 based index.\n",
      "    \n",
      "    Parameters\n",
      "    ----------\n",
      "    str : :class:`~pyspark.sql.Column` or str\n",
      "        target column to work on.\n",
      "    pos : int\n",
      "        starting position in str.\n",
      "    len : int\n",
      "        length of chars.\n",
      "    \n",
      "    Returns\n",
      "    -------\n",
      "    :class:`~pyspark.sql.Column`\n",
      "        substring of given value.\n",
      "    \n",
      "    Examples\n",
      "    --------\n",
      "    >>> df = spark.createDataFrame([('abcd',)], ['s',])\n",
      "    >>> df.select(substring(df.s, 1, 2).alias('s')).collect()\n",
      "    [Row(s='ab')]\n",
      "\n"
     ]
    }
   ],
   "source": [
    "from pyspark.sql.functions import col,lower, upper, substring\n",
    "help(substring)"
   ]
  },
  {
   "cell_type": "code",
   "execution_count": 39,
   "id": "0fd1884b",
   "metadata": {},
   "outputs": [
    {
     "name": "stdout",
     "output_type": "stream",
     "text": [
      "+-------------------------+-------------------------+-------------------------+------------------+\n",
      "|Car                      |lower(Car)               |upper(Car)               |concatenated value|\n",
      "+-------------------------+-------------------------+-------------------------+------------------+\n",
      "|Chevrolet Chevelle Malibu|chevrolet chevelle malibu|CHEVROLET CHEVELLE MALIBU|Chev              |\n",
      "|Buick Skylark 320        |buick skylark 320        |BUICK SKYLARK 320        |Buic              |\n",
      "|Plymouth Satellite       |plymouth satellite       |PLYMOUTH SATELLITE       |Plym              |\n",
      "|AMC Rebel SST            |amc rebel sst            |AMC REBEL SST            |AMC               |\n",
      "|Ford Torino              |ford torino              |FORD TORINO              |Ford              |\n",
      "+-------------------------+-------------------------+-------------------------+------------------+\n",
      "only showing top 5 rows\n",
      "\n"
     ]
    }
   ],
   "source": [
    "from pyspark.sql.functions import col,lower, upper, substring\n",
    "# Prints out the details of a function\n",
    "# alias is used to rename the column name in the output\n",
    "df.select(col('Car'),lower(col('Car')),upper(col('Car')),substring(col('Car'),1,4).alias(\"concatenated value\")).show(5, False)"
   ]
  },
  {
   "cell_type": "code",
   "execution_count": 40,
   "id": "99a2fabe",
   "metadata": {},
   "outputs": [
    {
     "name": "stdout",
     "output_type": "stream",
     "text": [
      "+-------------------------+-----+----------------------------+\n",
      "|Car                      |Model|concat(Car,  , Model)       |\n",
      "+-------------------------+-----+----------------------------+\n",
      "|Chevrolet Chevelle Malibu|70   |Chevrolet Chevelle Malibu 70|\n",
      "|Buick Skylark 320        |70   |Buick Skylark 320 70        |\n",
      "|Plymouth Satellite       |70   |Plymouth Satellite 70       |\n",
      "|AMC Rebel SST            |70   |AMC Rebel SST 70            |\n",
      "|Ford Torino              |70   |Ford Torino 70              |\n",
      "+-------------------------+-----+----------------------------+\n",
      "only showing top 5 rows\n",
      "\n"
     ]
    }
   ],
   "source": [
    "df.select(col(\"Car\"), col(\"Model\"), concat(col(\"Car\"), lit(\" \"), (col(\"Model\")))).show(5, False)"
   ]
  },
  {
   "cell_type": "code",
   "execution_count": 41,
   "id": "240780df",
   "metadata": {},
   "outputs": [
    {
     "name": "stdout",
     "output_type": "stream",
     "text": [
      "+-----------------+------------------+\n",
      "|(min(Model) + 10)|max((Model + 100))|\n",
      "+-----------------+------------------+\n",
      "|               80|               182|\n",
      "+-----------------+------------------+\n",
      "\n"
     ]
    }
   ],
   "source": [
    "from pyspark.sql.functions import min, max, lit\n",
    "df.select(min(col(\"Model\")) + lit(10), max(col('Model') + lit(100))).show()"
   ]
  },
  {
   "cell_type": "code",
   "execution_count": 42,
   "id": "bbfcd847",
   "metadata": {},
   "outputs": [
    {
     "name": "stdout",
     "output_type": "stream",
     "text": [
      "+-------------------+\n",
      "|                DOB|\n",
      "+-------------------+\n",
      "|2019-12-25 13:30:00|\n",
      "+-------------------+\n",
      "\n",
      "root\n",
      " |-- DOB: string (nullable = true)\n",
      "\n"
     ]
    }
   ],
   "source": [
    "from pyspark.sql.functions import to_date, to_timestamp, lit\n",
    "df = spark.createDataFrame([('2019-12-25 13:30:00',)], ['DOB'])\n",
    "df.show()\n",
    "df.printSchema()"
   ]
  },
  {
   "cell_type": "code",
   "execution_count": 43,
   "id": "0dfb2424",
   "metadata": {},
   "outputs": [
    {
     "name": "stdout",
     "output_type": "stream",
     "text": [
      "+----------+-------------------+\n",
      "|Date      |Timestamp          |\n",
      "+----------+-------------------+\n",
      "|2013-12-25|2013-12-25 13:30:00|\n",
      "+----------+-------------------+\n",
      "\n"
     ]
    }
   ],
   "source": [
    "from pyspark.sql.functions import col, to_date, to_timestamp\n",
    "df = spark.createDataFrame([('2013-12-25 13:30:00',)], ['DOB'])\n",
    "df = df.select(to_date(col(\"DOB\"), 'yyyy-MM-dd HH:mm:ss').alias(\"Date\"),\n",
    "               to_timestamp(col(\"DOB\"), 'yyyy-MM-dd HH:mm:ss').alias(\"Timestamp\"))\n",
    "df.show(truncate=False)"
   ]
  },
  {
   "cell_type": "code",
   "execution_count": null,
   "id": "3a7cb984",
   "metadata": {},
   "outputs": [],
   "source": []
  },
  {
   "cell_type": "code",
   "execution_count": null,
   "id": "375f03ed",
   "metadata": {},
   "outputs": [],
   "source": []
  }
 ],
 "metadata": {
  "kernelspec": {
   "display_name": "Python 3 (ipykernel)",
   "language": "python",
   "name": "python3"
  },
  "language_info": {
   "codemirror_mode": {
    "name": "ipython",
    "version": 3
   },
   "file_extension": ".py",
   "mimetype": "text/x-python",
   "name": "python",
   "nbconvert_exporter": "python",
   "pygments_lexer": "ipython3",
   "version": "3.11.5"
  }
 },
 "nbformat": 4,
 "nbformat_minor": 5
}
