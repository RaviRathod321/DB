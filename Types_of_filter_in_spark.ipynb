{
  "nbformat": 4,
  "nbformat_minor": 0,
  "metadata": {
    "colab": {
      "provenance": []
    },
    "kernelspec": {
      "name": "python3",
      "display_name": "Python 3"
    },
    "language_info": {
      "name": "python"
    }
  },
  "cells": [
    {
      "cell_type": "code",
      "execution_count": 1,
      "metadata": {
        "colab": {
          "base_uri": "https://localhost:8080/"
        },
        "id": "JUzjcAuhCO_K",
        "outputId": "283c1ecb-304a-4e1c-9cfc-0df02363a1f3"
      },
      "outputs": [
        {
          "output_type": "stream",
          "name": "stdout",
          "text": [
            "Collecting pyspark\n",
            "  Downloading pyspark-3.5.0.tar.gz (316.9 MB)\n",
            "\u001b[2K     \u001b[90m━━━━━━━━━━━━━━━━━━━━━━━━━━━━━━━━━━━━━━━━\u001b[0m \u001b[32m316.9/316.9 MB\u001b[0m \u001b[31m3.1 MB/s\u001b[0m eta \u001b[36m0:00:00\u001b[0m\n",
            "\u001b[?25h  Preparing metadata (setup.py) ... \u001b[?25l\u001b[?25hdone\n",
            "Requirement already satisfied: py4j==0.10.9.7 in /usr/local/lib/python3.10/dist-packages (from pyspark) (0.10.9.7)\n",
            "Building wheels for collected packages: pyspark\n",
            "  Building wheel for pyspark (setup.py) ... \u001b[?25l\u001b[?25hdone\n",
            "  Created wheel for pyspark: filename=pyspark-3.5.0-py2.py3-none-any.whl size=317425344 sha256=59de52625ba6d886712a81cc34b68fa7c871a9e68d501ff0dea3540d61218224\n",
            "  Stored in directory: /root/.cache/pip/wheels/41/4e/10/c2cf2467f71c678cfc8a6b9ac9241e5e44a01940da8fbb17fc\n",
            "Successfully built pyspark\n",
            "Installing collected packages: pyspark\n",
            "Successfully installed pyspark-3.5.0\n"
          ]
        }
      ],
      "source": [
        "pip install pyspark"
      ]
    },
    {
      "cell_type": "code",
      "source": [
        "from pyspark.sql import SparkSession"
      ],
      "metadata": {
        "id": "tRT5hD62CXzg"
      },
      "execution_count": 3,
      "outputs": []
    },
    {
      "cell_type": "code",
      "source": [
        "spark = SparkSession.builder.appName('myapp').getOrCreate()\n",
        "df = spark.read.csv(\"/content/world_population.csv\", header=True, inferSchema=True)\n",
        "df.show(n=5)"
      ],
      "metadata": {
        "colab": {
          "base_uri": "https://localhost:8080/"
        },
        "id": "vjpLEoi2C7RI",
        "outputId": "7ec62ea3-f647-4f62-914c-3ff195718502"
      },
      "execution_count": 7,
      "outputs": [
        {
          "output_type": "stream",
          "name": "stdout",
          "text": [
            "+----+----+-----------------+----------------+---------+---------------+---------------+---------------+---------------+---------------+---------------+---------------+---------------+----------+-----------------+-----------+---------------------------+\n",
            "|Rank|CCA3|Country/Territory|         Capital|Continent|2022 Population|2020 Population|2015 Population|2010 Population|2000 Population|1990 Population|1980 Population|1970 Population|Area (km²)|Density (per km²)|Growth Rate|World Population Percentage|\n",
            "+----+----+-----------------+----------------+---------+---------------+---------------+---------------+---------------+---------------+---------------+---------------+---------------+----------+-----------------+-----------+---------------------------+\n",
            "|  36| AFG|      Afghanistan|           Kabul|     Asia|       41128771|       38972230|       33753499|       28189672|       19542982|       10694796|       12486631|       10752971|    652230|          63.0587|     1.0257|                       0.52|\n",
            "| 138| ALB|          Albania|          Tirana|   Europe|        2842321|        2866849|        2882481|        2913399|        3182021|        3295066|        2941651|        2324731|     28748|          98.8702|     0.9957|                       0.04|\n",
            "|  34| DZA|          Algeria|         Algiers|   Africa|       44903225|       43451666|       39543154|       35856344|       30774621|       25518074|       18739378|       13795915|   2381741|          18.8531|     1.0164|                       0.56|\n",
            "| 213| ASM|   American Samoa|       Pago Pago|  Oceania|          44273|          46189|          51368|          54849|          58230|          47818|          32886|          27075|       199|         222.4774|     0.9831|                        0.0|\n",
            "| 203| AND|          Andorra|Andorra la Vella|   Europe|          79824|          77700|          71746|          71519|          66097|          53569|          35611|          19860|       468|         170.5641|       1.01|                        0.0|\n",
            "+----+----+-----------------+----------------+---------+---------------+---------------+---------------+---------------+---------------+---------------+---------------+---------------+----------+-----------------+-----------+---------------------------+\n",
            "only showing top 5 rows\n",
            "\n"
          ]
        }
      ]
    },
    {
      "cell_type": "code",
      "source": [
        "df.filter(df.Capital == 'Kabul').show()"
      ],
      "metadata": {
        "colab": {
          "base_uri": "https://localhost:8080/"
        },
        "id": "TzzaCQXjFD5w",
        "outputId": "7702b6ea-6286-4f30-cc5e-28f9db9f090f"
      },
      "execution_count": 10,
      "outputs": [
        {
          "output_type": "stream",
          "name": "stdout",
          "text": [
            "+----+----+-----------------+-------+---------+---------------+---------------+---------------+---------------+---------------+---------------+---------------+---------------+----------+-----------------+-----------+---------------------------+\n",
            "|Rank|CCA3|Country/Territory|Capital|Continent|2022 Population|2020 Population|2015 Population|2010 Population|2000 Population|1990 Population|1980 Population|1970 Population|Area (km²)|Density (per km²)|Growth Rate|World Population Percentage|\n",
            "+----+----+-----------------+-------+---------+---------------+---------------+---------------+---------------+---------------+---------------+---------------+---------------+----------+-----------------+-----------+---------------------------+\n",
            "|  36| AFG|      Afghanistan|  Kabul|     Asia|       41128771|       38972230|       33753499|       28189672|       19542982|       10694796|       12486631|       10752971|    652230|          63.0587|     1.0257|                       0.52|\n",
            "+----+----+-----------------+-------+---------+---------------+---------------+---------------+---------------+---------------+---------------+---------------+---------------+----------+-----------------+-----------+---------------------------+\n",
            "\n"
          ]
        }
      ]
    },
    {
      "cell_type": "code",
      "source": [
        "from pyspark.sql.functions import col\n",
        "df.filter(col('CCA3')=='AFG').show()"
      ],
      "metadata": {
        "colab": {
          "base_uri": "https://localhost:8080/"
        },
        "id": "qvRDG6VqFhXV",
        "outputId": "03eed357-ec59-41c5-fcac-f54878aa1739"
      },
      "execution_count": 14,
      "outputs": [
        {
          "output_type": "stream",
          "name": "stdout",
          "text": [
            "+----+----+-----------------+-------+---------+---------------+---------------+---------------+---------------+---------------+---------------+---------------+---------------+----------+-----------------+-----------+---------------------------+\n",
            "|Rank|CCA3|Country/Territory|Capital|Continent|2022 Population|2020 Population|2015 Population|2010 Population|2000 Population|1990 Population|1980 Population|1970 Population|Area (km²)|Density (per km²)|Growth Rate|World Population Percentage|\n",
            "+----+----+-----------------+-------+---------+---------------+---------------+---------------+---------------+---------------+---------------+---------------+---------------+----------+-----------------+-----------+---------------------------+\n",
            "|  36| AFG|      Afghanistan|  Kabul|     Asia|       41128771|       38972230|       33753499|       28189672|       19542982|       10694796|       12486631|       10752971|    652230|          63.0587|     1.0257|                       0.52|\n",
            "+----+----+-----------------+-------+---------+---------------+---------------+---------------+---------------+---------------+---------------+---------------+---------------+----------+-----------------+-----------+---------------------------+\n",
            "\n"
          ]
        }
      ]
    },
    {
      "cell_type": "code",
      "source": [
        "df.drop('2010 Population', '2015 Population').show()"
      ],
      "metadata": {
        "colab": {
          "base_uri": "https://localhost:8080/"
        },
        "id": "6E_8mAKBIFeo",
        "outputId": "f68c445c-7520-4128-a3b1-82296cdc5bcc"
      },
      "execution_count": 15,
      "outputs": [
        {
          "output_type": "stream",
          "name": "stdout",
          "text": [
            "+----+----+-------------------+----------------+-------------+---------------+---------------+---------------+---------------+---------------+---------------+----------+-----------------+-----------+---------------------------+\n",
            "|Rank|CCA3|  Country/Territory|         Capital|    Continent|2022 Population|2020 Population|2000 Population|1990 Population|1980 Population|1970 Population|Area (km²)|Density (per km²)|Growth Rate|World Population Percentage|\n",
            "+----+----+-------------------+----------------+-------------+---------------+---------------+---------------+---------------+---------------+---------------+----------+-----------------+-----------+---------------------------+\n",
            "|  36| AFG|        Afghanistan|           Kabul|         Asia|       41128771|       38972230|       19542982|       10694796|       12486631|       10752971|    652230|          63.0587|     1.0257|                       0.52|\n",
            "| 138| ALB|            Albania|          Tirana|       Europe|        2842321|        2866849|        3182021|        3295066|        2941651|        2324731|     28748|          98.8702|     0.9957|                       0.04|\n",
            "|  34| DZA|            Algeria|         Algiers|       Africa|       44903225|       43451666|       30774621|       25518074|       18739378|       13795915|   2381741|          18.8531|     1.0164|                       0.56|\n",
            "| 213| ASM|     American Samoa|       Pago Pago|      Oceania|          44273|          46189|          58230|          47818|          32886|          27075|       199|         222.4774|     0.9831|                        0.0|\n",
            "| 203| AND|            Andorra|Andorra la Vella|       Europe|          79824|          77700|          66097|          53569|          35611|          19860|       468|         170.5641|       1.01|                        0.0|\n",
            "|  42| AGO|             Angola|          Luanda|       Africa|       35588987|       33428485|       16394062|       11828638|        8330047|        6029700|   1246700|          28.5466|     1.0315|                       0.45|\n",
            "| 224| AIA|           Anguilla|      The Valley|North America|          15857|          15585|          11047|           8316|           6560|           6283|        91|         174.2527|     1.0066|                        0.0|\n",
            "| 201| ATG|Antigua and Barbuda|    Saint John’s|North America|          93763|          92664|          75055|          63328|          64888|          64516|       442|         212.1335|     1.0058|                        0.0|\n",
            "|  33| ARG|          Argentina|    Buenos Aires|South America|       45510318|       45036032|       37070774|       32637657|       28024803|       23842803|   2780400|          16.3683|     1.0052|                       0.57|\n",
            "| 140| ARM|            Armenia|         Yerevan|         Asia|        2780469|        2805608|        3168523|        3556539|        3135123|        2534377|     29743|          93.4831|     0.9962|                       0.03|\n",
            "| 198| ABW|              Aruba|      Oranjestad|North America|         106445|         106585|          89101|          65712|          62267|          59106|       180|         591.3611|     0.9991|                        0.0|\n",
            "|  55| AUS|          Australia|        Canberra|      Oceania|       26177413|       25670051|       19017963|       17048003|       14706322|       12595034|   7692024|           3.4032|     1.0099|                       0.33|\n",
            "|  99| AUT|            Austria|          Vienna|       Europe|        8939617|        8907777|        8010428|        7678729|        7547561|        7465301|     83871|         106.5877|      1.002|                       0.11|\n",
            "|  91| AZE|         Azerbaijan|            Baku|         Asia|       10358074|       10284951|        8190337|        7427836|        6383060|        5425317|     86600|         119.6082|     1.0044|                       0.13|\n",
            "| 176| BHS|            Bahamas|          Nassau|North America|         409984|         406471|         325014|         270679|         223752|         179129|     13943|          29.4043|     1.0051|                       0.01|\n",
            "| 154| BHR|            Bahrain|          Manama|         Asia|        1472233|        1477469|         711442|         517418|         362595|         222555|       765|        1924.4876|     1.0061|                       0.02|\n",
            "|   8| BGD|         Bangladesh|           Dhaka|         Asia|      171186372|      167420951|      129193327|      107147651|       83929765|       67541860|    147570|         1160.035|     1.0108|                       2.15|\n",
            "| 186| BRB|           Barbados|      Bridgetown|North America|         281635|         280693|         264657|         258868|         253575|         241397|       430|         654.9651|     1.0015|                        0.0|\n",
            "|  96| BLR|            Belarus|           Minsk|       Europe|        9534954|        9633740|       10256483|       10428525|        9817257|        9170786|    207600|          45.9295|     0.9955|                       0.12|\n",
            "|  81| BEL|            Belgium|        Brussels|       Europe|       11655930|       11561717|       10264343|        9959560|        9828986|        9629376|     30528|         381.8111|     1.0038|                       0.15|\n",
            "+----+----+-------------------+----------------+-------------+---------------+---------------+---------------+---------------+---------------+---------------+----------+-----------------+-----------+---------------------------+\n",
            "only showing top 20 rows\n",
            "\n"
          ]
        }
      ]
    },
    {
      "cell_type": "code",
      "source": [
        "df.filter(\"Capital = 'Tirana'\").show()"
      ],
      "metadata": {
        "colab": {
          "base_uri": "https://localhost:8080/"
        },
        "id": "ehpNM0uFIpob",
        "outputId": "f8bc9c4e-2b62-42ae-ab8e-e7fcbed503db"
      },
      "execution_count": 17,
      "outputs": [
        {
          "output_type": "stream",
          "name": "stdout",
          "text": [
            "+----+----+-----------------+-------+---------+---------------+---------------+---------------+---------------+---------------+---------------+---------------+---------------+----------+-----------------+-----------+---------------------------+\n",
            "|Rank|CCA3|Country/Territory|Capital|Continent|2022 Population|2020 Population|2015 Population|2010 Population|2000 Population|1990 Population|1980 Population|1970 Population|Area (km²)|Density (per km²)|Growth Rate|World Population Percentage|\n",
            "+----+----+-----------------+-------+---------+---------------+---------------+---------------+---------------+---------------+---------------+---------------+---------------+----------+-----------------+-----------+---------------------------+\n",
            "| 138| ALB|          Albania| Tirana|   Europe|        2842321|        2866849|        2882481|        2913399|        3182021|        3295066|        2941651|        2324731|     28748|          98.8702|     0.9957|                       0.04|\n",
            "+----+----+-----------------+-------+---------+---------------+---------------+---------------+---------------+---------------+---------------+---------------+---------------+----------+-----------------+-----------+---------------------------+\n",
            "\n"
          ]
        }
      ]
    },
    {
      "cell_type": "code",
      "source": [
        "df.filter(df.Capital== 'Tirana').show()"
      ],
      "metadata": {
        "colab": {
          "base_uri": "https://localhost:8080/"
        },
        "id": "e8n0BgciK3-9",
        "outputId": "6a1ce448-282b-402c-94ae-53c1867f9e98"
      },
      "execution_count": 18,
      "outputs": [
        {
          "output_type": "stream",
          "name": "stdout",
          "text": [
            "+----+----+-----------------+-------+---------+---------------+---------------+---------------+---------------+---------------+---------------+---------------+---------------+----------+-----------------+-----------+---------------------------+\n",
            "|Rank|CCA3|Country/Territory|Capital|Continent|2022 Population|2020 Population|2015 Population|2010 Population|2000 Population|1990 Population|1980 Population|1970 Population|Area (km²)|Density (per km²)|Growth Rate|World Population Percentage|\n",
            "+----+----+-----------------+-------+---------+---------------+---------------+---------------+---------------+---------------+---------------+---------------+---------------+----------+-----------------+-----------+---------------------------+\n",
            "| 138| ALB|          Albania| Tirana|   Europe|        2842321|        2866849|        2882481|        2913399|        3182021|        3295066|        2941651|        2324731|     28748|          98.8702|     0.9957|                       0.04|\n",
            "+----+----+-----------------+-------+---------+---------------+---------------+---------------+---------------+---------------+---------------+---------------+---------------+----------+-----------------+-----------+---------------------------+\n",
            "\n"
          ]
        }
      ]
    },
    {
      "cell_type": "code",
      "source": [
        "##ISIN Operator"
      ],
      "metadata": {
        "id": "TmPzPkquMdwQ"
      },
      "execution_count": null,
      "outputs": []
    },
    {
      "cell_type": "code",
      "source": [
        "df.filter(df.Capital.isin('Tirana','Kabul')).show()"
      ],
      "metadata": {
        "colab": {
          "base_uri": "https://localhost:8080/"
        },
        "id": "gmakPALGLJTw",
        "outputId": "c83e5c8f-f7ca-4e1a-c5fb-7c8e931e7609"
      },
      "execution_count": 20,
      "outputs": [
        {
          "output_type": "stream",
          "name": "stdout",
          "text": [
            "+----+----+-----------------+-------+---------+---------------+---------------+---------------+---------------+---------------+---------------+---------------+---------------+----------+-----------------+-----------+---------------------------+\n",
            "|Rank|CCA3|Country/Territory|Capital|Continent|2022 Population|2020 Population|2015 Population|2010 Population|2000 Population|1990 Population|1980 Population|1970 Population|Area (km²)|Density (per km²)|Growth Rate|World Population Percentage|\n",
            "+----+----+-----------------+-------+---------+---------------+---------------+---------------+---------------+---------------+---------------+---------------+---------------+----------+-----------------+-----------+---------------------------+\n",
            "|  36| AFG|      Afghanistan|  Kabul|     Asia|       41128771|       38972230|       33753499|       28189672|       19542982|       10694796|       12486631|       10752971|    652230|          63.0587|     1.0257|                       0.52|\n",
            "| 138| ALB|          Albania| Tirana|   Europe|        2842321|        2866849|        2882481|        2913399|        3182021|        3295066|        2941651|        2324731|     28748|          98.8702|     0.9957|                       0.04|\n",
            "+----+----+-----------------+-------+---------+---------------+---------------+---------------+---------------+---------------+---------------+---------------+---------------+----------+-----------------+-----------+---------------------------+\n",
            "\n"
          ]
        }
      ]
    },
    {
      "cell_type": "code",
      "source": [
        "##SQL String Expression"
      ],
      "metadata": {
        "id": "Lk5V7mTpMZvP"
      },
      "execution_count": null,
      "outputs": []
    },
    {
      "cell_type": "code",
      "source": [
        "df.filter(\"Capital IN('Tirana')\").show()"
      ],
      "metadata": {
        "colab": {
          "base_uri": "https://localhost:8080/"
        },
        "id": "S5gyzYfLLqdB",
        "outputId": "2aad9404-e9cf-4e44-986d-ae37e5b3cbbf"
      },
      "execution_count": 21,
      "outputs": [
        {
          "output_type": "stream",
          "name": "stdout",
          "text": [
            "+----+----+-----------------+-------+---------+---------------+---------------+---------------+---------------+---------------+---------------+---------------+---------------+----------+-----------------+-----------+---------------------------+\n",
            "|Rank|CCA3|Country/Territory|Capital|Continent|2022 Population|2020 Population|2015 Population|2010 Population|2000 Population|1990 Population|1980 Population|1970 Population|Area (km²)|Density (per km²)|Growth Rate|World Population Percentage|\n",
            "+----+----+-----------------+-------+---------+---------------+---------------+---------------+---------------+---------------+---------------+---------------+---------------+----------+-----------------+-----------+---------------------------+\n",
            "| 138| ALB|          Albania| Tirana|   Europe|        2842321|        2866849|        2882481|        2913399|        3182021|        3295066|        2941651|        2324731|     28748|          98.8702|     0.9957|                       0.04|\n",
            "+----+----+-----------------+-------+---------+---------------+---------------+---------------+---------------+---------------+---------------+---------------+---------------+----------+-----------------+-----------+---------------------------+\n",
            "\n"
          ]
        }
      ]
    },
    {
      "cell_type": "code",
      "source": [],
      "metadata": {
        "id": "eQNpmcSAM5aG"
      },
      "execution_count": null,
      "outputs": []
    }
  ]
}