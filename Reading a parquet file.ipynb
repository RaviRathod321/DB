{
 "cells": [
  {
   "cell_type": "code",
   "execution_count": 0,
   "metadata": {
    "application/vnd.databricks.v1+cell": {
     "cellMetadata": {
      "byteLimit": 2048000,
      "rowLimit": 10000
     },
     "inputWidgets": {},
     "nuid": "1685127e-eb87-4a92-814b-d09fcd206b06",
     "showTitle": false,
     "title": ""
    }
   },
   "outputs": [],
   "source": [
    "df = spark.read.parquet(\"dbfs:/FileStore/mt_cars.parquet\")"
   ]
  },
  {
   "cell_type": "code",
   "execution_count": 0,
   "metadata": {
    "application/vnd.databricks.v1+cell": {
     "cellMetadata": {
      "byteLimit": 2048000,
      "rowLimit": 10000
     },
     "inputWidgets": {},
     "nuid": "74725f31-910d-4340-a6bb-dc51c957cb8f",
     "showTitle": false,
     "title": ""
    }
   },
   "outputs": [
    {
     "output_type": "display_data",
     "data": {
      "text/html": [
       "<style scoped>\n",
       "  .table-result-container {\n",
       "    max-height: 300px;\n",
       "    overflow: auto;\n",
       "  }\n",
       "  table, th, td {\n",
       "    border: 1px solid black;\n",
       "    border-collapse: collapse;\n",
       "  }\n",
       "  th, td {\n",
       "    padding: 5px;\n",
       "  }\n",
       "  th {\n",
       "    text-align: left;\n",
       "  }\n",
       "</style><div class='table-result-container'><table class='table-result'><thead style='background-color: white'><tr><th>model</th><th>mpg</th><th>cyl</th><th>disp</th><th>hp</th><th>drat</th><th>wt</th><th>qsec</th><th>vs</th><th>am</th><th>gear</th><th>carb</th></tr></thead><tbody><tr><td>Mazda RX4</td><td>21.0</td><td>6</td><td>160.0</td><td>110</td><td>3.9</td><td>2.62</td><td>16.46</td><td>0</td><td>1</td><td>4</td><td>4</td></tr><tr><td>Mazda RX4 Wag</td><td>21.0</td><td>6</td><td>160.0</td><td>110</td><td>3.9</td><td>2.875</td><td>17.02</td><td>0</td><td>1</td><td>4</td><td>4</td></tr><tr><td>Datsun 710</td><td>22.8</td><td>4</td><td>108.0</td><td>93</td><td>3.85</td><td>2.32</td><td>18.61</td><td>1</td><td>1</td><td>4</td><td>1</td></tr><tr><td>Hornet 4 Drive</td><td>21.4</td><td>6</td><td>258.0</td><td>110</td><td>3.08</td><td>3.215</td><td>19.44</td><td>1</td><td>0</td><td>3</td><td>1</td></tr><tr><td>Hornet Sportabout</td><td>18.7</td><td>8</td><td>360.0</td><td>175</td><td>3.15</td><td>3.44</td><td>17.02</td><td>0</td><td>0</td><td>3</td><td>2</td></tr><tr><td>Valiant</td><td>18.1</td><td>6</td><td>225.0</td><td>105</td><td>2.76</td><td>3.46</td><td>20.22</td><td>1</td><td>0</td><td>3</td><td>1</td></tr><tr><td>Duster 360</td><td>14.3</td><td>8</td><td>360.0</td><td>245</td><td>3.21</td><td>3.57</td><td>15.84</td><td>0</td><td>0</td><td>3</td><td>4</td></tr><tr><td>Merc 240D</td><td>24.4</td><td>4</td><td>146.7</td><td>62</td><td>3.69</td><td>3.19</td><td>20.0</td><td>1</td><td>0</td><td>4</td><td>2</td></tr><tr><td>Merc 230</td><td>22.8</td><td>4</td><td>140.8</td><td>95</td><td>3.92</td><td>3.15</td><td>22.9</td><td>1</td><td>0</td><td>4</td><td>2</td></tr><tr><td>Merc 280</td><td>19.2</td><td>6</td><td>167.6</td><td>123</td><td>3.92</td><td>3.44</td><td>18.3</td><td>1</td><td>0</td><td>4</td><td>4</td></tr><tr><td>Merc 280C</td><td>17.8</td><td>6</td><td>167.6</td><td>123</td><td>3.92</td><td>3.44</td><td>18.9</td><td>1</td><td>0</td><td>4</td><td>4</td></tr><tr><td>Merc 450SE</td><td>16.4</td><td>8</td><td>275.8</td><td>180</td><td>3.07</td><td>4.07</td><td>17.4</td><td>0</td><td>0</td><td>3</td><td>3</td></tr><tr><td>Merc 450SL</td><td>17.3</td><td>8</td><td>275.8</td><td>180</td><td>3.07</td><td>3.73</td><td>17.6</td><td>0</td><td>0</td><td>3</td><td>3</td></tr><tr><td>Merc 450SLC</td><td>15.2</td><td>8</td><td>275.8</td><td>180</td><td>3.07</td><td>3.78</td><td>18.0</td><td>0</td><td>0</td><td>3</td><td>3</td></tr><tr><td>Cadillac Fleetwood</td><td>10.4</td><td>8</td><td>472.0</td><td>205</td><td>2.93</td><td>5.25</td><td>17.98</td><td>0</td><td>0</td><td>3</td><td>4</td></tr><tr><td>Lincoln Continental</td><td>10.4</td><td>8</td><td>460.0</td><td>215</td><td>3.0</td><td>5.424</td><td>17.82</td><td>0</td><td>0</td><td>3</td><td>4</td></tr><tr><td>Chrysler Imperial</td><td>14.7</td><td>8</td><td>440.0</td><td>230</td><td>3.23</td><td>5.345</td><td>17.42</td><td>0</td><td>0</td><td>3</td><td>4</td></tr><tr><td>Fiat 128</td><td>32.4</td><td>4</td><td>78.7</td><td>66</td><td>4.08</td><td>2.2</td><td>19.47</td><td>1</td><td>1</td><td>4</td><td>1</td></tr><tr><td>Honda Civic</td><td>30.4</td><td>4</td><td>75.7</td><td>52</td><td>4.93</td><td>1.615</td><td>18.52</td><td>1</td><td>1</td><td>4</td><td>2</td></tr><tr><td>Toyota Corolla</td><td>33.9</td><td>4</td><td>71.1</td><td>65</td><td>4.22</td><td>1.835</td><td>19.9</td><td>1</td><td>1</td><td>4</td><td>1</td></tr><tr><td>Toyota Corona</td><td>21.5</td><td>4</td><td>120.1</td><td>97</td><td>3.7</td><td>2.465</td><td>20.01</td><td>1</td><td>0</td><td>3</td><td>1</td></tr><tr><td>Dodge Challenger</td><td>15.5</td><td>8</td><td>318.0</td><td>150</td><td>2.76</td><td>3.52</td><td>16.87</td><td>0</td><td>0</td><td>3</td><td>2</td></tr><tr><td>AMC Javelin</td><td>15.2</td><td>8</td><td>304.0</td><td>150</td><td>3.15</td><td>3.435</td><td>17.3</td><td>0</td><td>0</td><td>3</td><td>2</td></tr><tr><td>Camaro Z28</td><td>13.3</td><td>8</td><td>350.0</td><td>245</td><td>3.73</td><td>3.84</td><td>15.41</td><td>0</td><td>0</td><td>3</td><td>4</td></tr><tr><td>Pontiac Firebird</td><td>19.2</td><td>8</td><td>400.0</td><td>175</td><td>3.08</td><td>3.845</td><td>17.05</td><td>0</td><td>0</td><td>3</td><td>2</td></tr><tr><td>Fiat X1-9</td><td>27.3</td><td>4</td><td>79.0</td><td>66</td><td>4.08</td><td>1.935</td><td>18.9</td><td>1</td><td>1</td><td>4</td><td>1</td></tr><tr><td>Porsche 914-2</td><td>26.0</td><td>4</td><td>120.3</td><td>91</td><td>4.43</td><td>2.14</td><td>16.7</td><td>0</td><td>1</td><td>5</td><td>2</td></tr><tr><td>Lotus Europa</td><td>30.4</td><td>4</td><td>95.1</td><td>113</td><td>3.77</td><td>1.513</td><td>16.9</td><td>1</td><td>1</td><td>5</td><td>2</td></tr><tr><td>Ford Pantera L</td><td>15.8</td><td>8</td><td>351.0</td><td>264</td><td>4.22</td><td>3.17</td><td>14.5</td><td>0</td><td>1</td><td>5</td><td>4</td></tr><tr><td>Ferrari Dino</td><td>19.7</td><td>6</td><td>145.0</td><td>175</td><td>3.62</td><td>2.77</td><td>15.5</td><td>0</td><td>1</td><td>5</td><td>6</td></tr><tr><td>Maserati Bora</td><td>15.0</td><td>8</td><td>301.0</td><td>335</td><td>3.54</td><td>3.57</td><td>14.6</td><td>0</td><td>1</td><td>5</td><td>8</td></tr><tr><td>Volvo 142E</td><td>21.4</td><td>4</td><td>121.0</td><td>109</td><td>4.11</td><td>2.78</td><td>18.6</td><td>1</td><td>1</td><td>4</td><td>2</td></tr></tbody></table></div>"
      ]
     },
     "metadata": {
      "application/vnd.databricks.v1+output": {
       "addedWidgets": {},
       "aggData": [],
       "aggError": "",
       "aggOverflow": false,
       "aggSchema": [],
       "aggSeriesLimitReached": false,
       "aggType": "",
       "arguments": {},
       "columnCustomDisplayInfos": {},
       "data": [
        [
         "Mazda RX4",
         21.0,
         6,
         160.0,
         110,
         3.9,
         2.62,
         16.46,
         0,
         1,
         4,
         4
        ],
        [
         "Mazda RX4 Wag",
         21.0,
         6,
         160.0,
         110,
         3.9,
         2.875,
         17.02,
         0,
         1,
         4,
         4
        ],
        [
         "Datsun 710",
         22.8,
         4,
         108.0,
         93,
         3.85,
         2.32,
         18.61,
         1,
         1,
         4,
         1
        ],
        [
         "Hornet 4 Drive",
         21.4,
         6,
         258.0,
         110,
         3.08,
         3.215,
         19.44,
         1,
         0,
         3,
         1
        ],
        [
         "Hornet Sportabout",
         18.7,
         8,
         360.0,
         175,
         3.15,
         3.44,
         17.02,
         0,
         0,
         3,
         2
        ],
        [
         "Valiant",
         18.1,
         6,
         225.0,
         105,
         2.76,
         3.46,
         20.22,
         1,
         0,
         3,
         1
        ],
        [
         "Duster 360",
         14.3,
         8,
         360.0,
         245,
         3.21,
         3.57,
         15.84,
         0,
         0,
         3,
         4
        ],
        [
         "Merc 240D",
         24.4,
         4,
         146.7,
         62,
         3.69,
         3.19,
         20.0,
         1,
         0,
         4,
         2
        ],
        [
         "Merc 230",
         22.8,
         4,
         140.8,
         95,
         3.92,
         3.15,
         22.9,
         1,
         0,
         4,
         2
        ],
        [
         "Merc 280",
         19.2,
         6,
         167.6,
         123,
         3.92,
         3.44,
         18.3,
         1,
         0,
         4,
         4
        ],
        [
         "Merc 280C",
         17.8,
         6,
         167.6,
         123,
         3.92,
         3.44,
         18.9,
         1,
         0,
         4,
         4
        ],
        [
         "Merc 450SE",
         16.4,
         8,
         275.8,
         180,
         3.07,
         4.07,
         17.4,
         0,
         0,
         3,
         3
        ],
        [
         "Merc 450SL",
         17.3,
         8,
         275.8,
         180,
         3.07,
         3.73,
         17.6,
         0,
         0,
         3,
         3
        ],
        [
         "Merc 450SLC",
         15.2,
         8,
         275.8,
         180,
         3.07,
         3.78,
         18.0,
         0,
         0,
         3,
         3
        ],
        [
         "Cadillac Fleetwood",
         10.4,
         8,
         472.0,
         205,
         2.93,
         5.25,
         17.98,
         0,
         0,
         3,
         4
        ],
        [
         "Lincoln Continental",
         10.4,
         8,
         460.0,
         215,
         3.0,
         5.424,
         17.82,
         0,
         0,
         3,
         4
        ],
        [
         "Chrysler Imperial",
         14.7,
         8,
         440.0,
         230,
         3.23,
         5.345,
         17.42,
         0,
         0,
         3,
         4
        ],
        [
         "Fiat 128",
         32.4,
         4,
         78.7,
         66,
         4.08,
         2.2,
         19.47,
         1,
         1,
         4,
         1
        ],
        [
         "Honda Civic",
         30.4,
         4,
         75.7,
         52,
         4.93,
         1.615,
         18.52,
         1,
         1,
         4,
         2
        ],
        [
         "Toyota Corolla",
         33.9,
         4,
         71.1,
         65,
         4.22,
         1.835,
         19.9,
         1,
         1,
         4,
         1
        ],
        [
         "Toyota Corona",
         21.5,
         4,
         120.1,
         97,
         3.7,
         2.465,
         20.01,
         1,
         0,
         3,
         1
        ],
        [
         "Dodge Challenger",
         15.5,
         8,
         318.0,
         150,
         2.76,
         3.52,
         16.87,
         0,
         0,
         3,
         2
        ],
        [
         "AMC Javelin",
         15.2,
         8,
         304.0,
         150,
         3.15,
         3.435,
         17.3,
         0,
         0,
         3,
         2
        ],
        [
         "Camaro Z28",
         13.3,
         8,
         350.0,
         245,
         3.73,
         3.84,
         15.41,
         0,
         0,
         3,
         4
        ],
        [
         "Pontiac Firebird",
         19.2,
         8,
         400.0,
         175,
         3.08,
         3.845,
         17.05,
         0,
         0,
         3,
         2
        ],
        [
         "Fiat X1-9",
         27.3,
         4,
         79.0,
         66,
         4.08,
         1.935,
         18.9,
         1,
         1,
         4,
         1
        ],
        [
         "Porsche 914-2",
         26.0,
         4,
         120.3,
         91,
         4.43,
         2.14,
         16.7,
         0,
         1,
         5,
         2
        ],
        [
         "Lotus Europa",
         30.4,
         4,
         95.1,
         113,
         3.77,
         1.513,
         16.9,
         1,
         1,
         5,
         2
        ],
        [
         "Ford Pantera L",
         15.8,
         8,
         351.0,
         264,
         4.22,
         3.17,
         14.5,
         0,
         1,
         5,
         4
        ],
        [
         "Ferrari Dino",
         19.7,
         6,
         145.0,
         175,
         3.62,
         2.77,
         15.5,
         0,
         1,
         5,
         6
        ],
        [
         "Maserati Bora",
         15.0,
         8,
         301.0,
         335,
         3.54,
         3.57,
         14.6,
         0,
         1,
         5,
         8
        ],
        [
         "Volvo 142E",
         21.4,
         4,
         121.0,
         109,
         4.11,
         2.78,
         18.6,
         1,
         1,
         4,
         2
        ]
       ],
       "datasetInfos": [],
       "dbfsResultPath": null,
       "isJsonSchema": true,
       "metadata": {},
       "overflow": false,
       "plotOptions": {
        "customPlotOptions": {},
        "displayType": "table",
        "pivotAggregation": null,
        "pivotColumns": null,
        "xColumns": null,
        "yColumns": null
       },
       "removedWidgets": [],
       "schema": [
        {
         "metadata": "{}",
         "name": "model",
         "type": "\"string\""
        },
        {
         "metadata": "{}",
         "name": "mpg",
         "type": "\"double\""
        },
        {
         "metadata": "{}",
         "name": "cyl",
         "type": "\"integer\""
        },
        {
         "metadata": "{}",
         "name": "disp",
         "type": "\"double\""
        },
        {
         "metadata": "{}",
         "name": "hp",
         "type": "\"integer\""
        },
        {
         "metadata": "{}",
         "name": "drat",
         "type": "\"double\""
        },
        {
         "metadata": "{}",
         "name": "wt",
         "type": "\"double\""
        },
        {
         "metadata": "{}",
         "name": "qsec",
         "type": "\"double\""
        },
        {
         "metadata": "{}",
         "name": "vs",
         "type": "\"integer\""
        },
        {
         "metadata": "{}",
         "name": "am",
         "type": "\"integer\""
        },
        {
         "metadata": "{}",
         "name": "gear",
         "type": "\"integer\""
        },
        {
         "metadata": "{}",
         "name": "carb",
         "type": "\"integer\""
        }
       ],
       "type": "table"
      }
     },
     "output_type": "display_data"
    }
   ],
   "source": [
    "display(df)"
   ]
  },
  {
   "cell_type": "code",
   "execution_count": 0,
   "metadata": {
    "application/vnd.databricks.v1+cell": {
     "cellMetadata": {
      "byteLimit": 2048000,
      "rowLimit": 10000
     },
     "inputWidgets": {},
     "nuid": "cec35237-325b-4921-805b-66aef7984141",
     "showTitle": false,
     "title": ""
    }
   },
   "outputs": [
    {
     "output_type": "stream",
     "name": "stdout",
     "output_type": "stream",
     "text": [
      "Help on method parquet in module pyspark.sql.readwriter:\n\nparquet(*paths: str, **options: 'OptionalPrimitiveType') -> 'DataFrame' method of pyspark.sql.readwriter.DataFrameReader instance\n    Loads Parquet files, returning the result as a :class:`DataFrame`.\n    \n    .. versionadded:: 1.4.0\n    \n    .. versionchanged:: 3.4.0\n        Support Spark Connect.\n    \n    Parameters\n    ----------\n    paths : str\n    \n    Other Parameters\n    ----------------\n    **options\n        For the extra options, refer to\n        `Data Source Option <https://spark.apache.org/docs/latest/sql-data-sources-parquet.html#data-source-option>`_\n        for the version you use.\n    \n        .. # noqa\n    \n    Examples\n    --------\n    Write a DataFrame into a Parquet file and read it back.\n    \n    >>> import tempfile\n    >>> with tempfile.TemporaryDirectory() as d:\n    ...     # Write a DataFrame into a Parquet file\n    ...     spark.createDataFrame(\n    ...         [{\"age\": 100, \"name\": \"Hyukjin Kwon\"}]\n    ...     ).write.mode(\"overwrite\").format(\"parquet\").save(d)\n    ...\n    ...     # Read the Parquet file as a DataFrame.\n    ...     spark.read.parquet(d).show()\n    +---+------------+\n    |age|        name|\n    +---+------------+\n    |100|Hyukjin Kwon|\n    +---+------------+\n\n"
     ]
    }
   ],
   "source": [
    "help(spark.read.parquet)"
   ]
  },
  {
   "cell_type": "code",
   "execution_count": 0,
   "metadata": {
    "application/vnd.databricks.v1+cell": {
     "cellMetadata": {},
     "inputWidgets": {},
     "nuid": "bdd2031f-747d-44a5-84dc-1c52ea7dbd8e",
     "showTitle": false,
     "title": ""
    }
   },
   "outputs": [],
   "source": []
  }
 ],
 "metadata": {
  "application/vnd.databricks.v1+notebook": {
   "dashboards": [],
   "language": "python",
   "notebookMetadata": {
    "pythonIndentUnit": 4
   },
   "notebookName": "Reading a parquet file",
   "widgets": {}
  }
 },
 "nbformat": 4,
 "nbformat_minor": 0
}
