{
  "nbformat": 4,
  "nbformat_minor": 0,
  "metadata": {
    "colab": {
      "provenance": []
    },
    "kernelspec": {
      "name": "python3",
      "display_name": "Python 3"
    },
    "language_info": {
      "name": "python"
    }
  },
  "cells": [
    {
      "cell_type": "code",
      "execution_count": 1,
      "metadata": {
        "colab": {
          "base_uri": "https://localhost:8080/"
        },
        "id": "3qArAtHbTElQ",
        "outputId": "d1b1de74-2a93-49c8-85d0-c68ee9618438"
      },
      "outputs": [
        {
          "output_type": "stream",
          "name": "stdout",
          "text": [
            "Collecting pyspark\n",
            "  Downloading pyspark-3.5.0.tar.gz (316.9 MB)\n",
            "\u001b[2K     \u001b[90m━━━━━━━━━━━━━━━━━━━━━━━━━━━━━━━━━━━━━━━━\u001b[0m \u001b[32m316.9/316.9 MB\u001b[0m \u001b[31m4.7 MB/s\u001b[0m eta \u001b[36m0:00:00\u001b[0m\n",
            "\u001b[?25h  Preparing metadata (setup.py) ... \u001b[?25l\u001b[?25hdone\n",
            "Requirement already satisfied: py4j==0.10.9.7 in /usr/local/lib/python3.10/dist-packages (from pyspark) (0.10.9.7)\n",
            "Building wheels for collected packages: pyspark\n",
            "  Building wheel for pyspark (setup.py) ... \u001b[?25l\u001b[?25hdone\n",
            "  Created wheel for pyspark: filename=pyspark-3.5.0-py2.py3-none-any.whl size=317425344 sha256=fa49059f8dcb9176f2fd1526498ebbf7492b5efbe29850a77d6fe9dcadcc1905\n",
            "  Stored in directory: /root/.cache/pip/wheels/41/4e/10/c2cf2467f71c678cfc8a6b9ac9241e5e44a01940da8fbb17fc\n",
            "Successfully built pyspark\n",
            "Installing collected packages: pyspark\n",
            "Successfully installed pyspark-3.5.0\n"
          ]
        }
      ],
      "source": [
        "pip install pyspark"
      ]
    },
    {
      "cell_type": "code",
      "source": [
        "from pyspark.sql import SparkSession\n",
        "from pyspark.sql.functions import col"
      ],
      "metadata": {
        "id": "4VDvIUH5TZxX"
      },
      "execution_count": 2,
      "outputs": []
    },
    {
      "cell_type": "code",
      "source": [
        "spark = SparkSession.builder.appName(\"myApp\").getOrCreate()"
      ],
      "metadata": {
        "id": "NRDURnWSTyqS"
      },
      "execution_count": 3,
      "outputs": []
    },
    {
      "cell_type": "code",
      "source": [
        "from os import truncate\n",
        "df = spark.read.csv(\"/content/cars.csv\", header=True, inferSchema=True, sep=\";\")\n",
        "print(df.show(n=5, truncate= True))"
      ],
      "metadata": {
        "colab": {
          "base_uri": "https://localhost:8080/"
        },
        "id": "brMJAcGrUA2_",
        "outputId": "f6c92bdb-9912-4b11-d578-8c9a125bea14"
      },
      "execution_count": 8,
      "outputs": [
        {
          "output_type": "stream",
          "name": "stdout",
          "text": [
            "+--------------------+----+---------+------------+----------+------+------------+-----+------+\n",
            "|                 Car| MPG|Cylinders|Displacement|Horsepower|Weight|Acceleration|Model|Origin|\n",
            "+--------------------+----+---------+------------+----------+------+------------+-----+------+\n",
            "|Chevrolet Chevell...|18.0|        8|       307.0|     130.0|  3504|        12.0|   70|    US|\n",
            "|   Buick Skylark 320|15.0|        8|       350.0|     165.0|  3693|        11.5|   70|    US|\n",
            "|  Plymouth Satellite|18.0|        8|       318.0|     150.0|  3436|        11.0|   70|    US|\n",
            "|       AMC Rebel SST|16.0|        8|       304.0|     150.0|  3433|        12.0|   70|    US|\n",
            "|         Ford Torino|17.0|        8|       302.0|     140.0|  3449|        10.5|   70|    US|\n",
            "+--------------------+----+---------+------------+----------+------+------------+-----+------+\n",
            "only showing top 5 rows\n",
            "\n",
            "None\n"
          ]
        }
      ]
    },
    {
      "cell_type": "code",
      "source": [
        "df.printSchema()"
      ],
      "metadata": {
        "colab": {
          "base_uri": "https://localhost:8080/"
        },
        "id": "aAx4w8IzUQWh",
        "outputId": "3f376621-04ef-424e-c85b-9b117d6887a4"
      },
      "execution_count": 9,
      "outputs": [
        {
          "output_type": "stream",
          "name": "stdout",
          "text": [
            "root\n",
            " |-- Car: string (nullable = true)\n",
            " |-- MPG: double (nullable = true)\n",
            " |-- Cylinders: integer (nullable = true)\n",
            " |-- Displacement: double (nullable = true)\n",
            " |-- Horsepower: double (nullable = true)\n",
            " |-- Weight: decimal(4,0) (nullable = true)\n",
            " |-- Acceleration: double (nullable = true)\n",
            " |-- Model: integer (nullable = true)\n",
            " |-- Origin: string (nullable = true)\n",
            "\n"
          ]
        }
      ]
    },
    {
      "cell_type": "code",
      "source": [
        "print(df.show(5))"
      ],
      "metadata": {
        "colab": {
          "base_uri": "https://localhost:8080/"
        },
        "id": "HpG6uB2PVIDv",
        "outputId": "04a81113-390d-4ddc-92c0-f06fb4331a6a"
      },
      "execution_count": 12,
      "outputs": [
        {
          "output_type": "stream",
          "name": "stdout",
          "text": [
            "+--------------------+----+---------+------------+----------+------+------------+-----+------+\n",
            "|                 Car| MPG|Cylinders|Displacement|Horsepower|Weight|Acceleration|Model|Origin|\n",
            "+--------------------+----+---------+------------+----------+------+------------+-----+------+\n",
            "|Chevrolet Chevell...|18.0|        8|       307.0|     130.0|  3504|        12.0|   70|    US|\n",
            "|   Buick Skylark 320|15.0|        8|       350.0|     165.0|  3693|        11.5|   70|    US|\n",
            "|  Plymouth Satellite|18.0|        8|       318.0|     150.0|  3436|        11.0|   70|    US|\n",
            "|       AMC Rebel SST|16.0|        8|       304.0|     150.0|  3433|        12.0|   70|    US|\n",
            "|         Ford Torino|17.0|        8|       302.0|     140.0|  3449|        10.5|   70|    US|\n",
            "+--------------------+----+---------+------------+----------+------+------------+-----+------+\n",
            "only showing top 5 rows\n",
            "\n",
            "None\n"
          ]
        }
      ]
    },
    {
      "cell_type": "code",
      "source": [
        "from pyspark.sql.types import *\n",
        "print(df.columns)"
      ],
      "metadata": {
        "colab": {
          "base_uri": "https://localhost:8080/"
        },
        "id": "PQDFcSZCVN9y",
        "outputId": "271c3a22-22c2-46f6-ce50-954ce4a98a6c"
      },
      "execution_count": 13,
      "outputs": [
        {
          "output_type": "stream",
          "name": "stdout",
          "text": [
            "['Car', 'MPG', 'Cylinders', 'Displacement', 'Horsepower', 'Weight', 'Acceleration', 'Model', 'Origin']\n"
          ]
        }
      ]
    },
    {
      "cell_type": "code",
      "source": [
        "df1 = df.select('Car','Model')\n",
        "print(df1.show())"
      ],
      "metadata": {
        "colab": {
          "base_uri": "https://localhost:8080/"
        },
        "id": "iTSL4Ry1V1UM",
        "outputId": "e6f1a47e-dcb7-47d0-9955-d6ac55e4b9ee"
      },
      "execution_count": 20,
      "outputs": [
        {
          "output_type": "stream",
          "name": "stdout",
          "text": [
            "+--------------------+-----+\n",
            "|                 Car|Model|\n",
            "+--------------------+-----+\n",
            "|Chevrolet Chevell...|   70|\n",
            "|   Buick Skylark 320|   70|\n",
            "|  Plymouth Satellite|   70|\n",
            "|       AMC Rebel SST|   70|\n",
            "|         Ford Torino|   70|\n",
            "|    Ford Galaxie 500|   70|\n",
            "|    Chevrolet Impala|   70|\n",
            "|   Plymouth Fury iii|   70|\n",
            "|    Pontiac Catalina|   70|\n",
            "|  AMC Ambassador DPL|   70|\n",
            "|Citroen DS-21 Pallas|   70|\n",
            "|Chevrolet Chevell...|   70|\n",
            "|    Ford Torino (sw)|   70|\n",
            "|Plymouth Satellit...|   70|\n",
            "|  AMC Rebel SST (sw)|   70|\n",
            "| Dodge Challenger SE|   70|\n",
            "|  Plymouth 'Cuda 340|   70|\n",
            "|Ford Mustang Boss...|   70|\n",
            "|Chevrolet Monte C...|   70|\n",
            "|Buick Estate Wago...|   70|\n",
            "+--------------------+-----+\n",
            "only showing top 20 rows\n",
            "\n",
            "None\n"
          ]
        }
      ]
    },
    {
      "cell_type": "code",
      "source": [
        "df.show()"
      ],
      "metadata": {
        "colab": {
          "base_uri": "https://localhost:8080/"
        },
        "id": "XgRt9YvdddCD",
        "outputId": "e3158fc9-110a-419e-9787-c23a06fe45cd"
      },
      "execution_count": 21,
      "outputs": [
        {
          "output_type": "stream",
          "name": "stdout",
          "text": [
            "+--------------------+-----+\n",
            "|                 Car|Model|\n",
            "+--------------------+-----+\n",
            "|Chevrolet Chevell...|   70|\n",
            "|   Buick Skylark 320|   70|\n",
            "|  Plymouth Satellite|   70|\n",
            "|       AMC Rebel SST|   70|\n",
            "|         Ford Torino|   70|\n",
            "|    Ford Galaxie 500|   70|\n",
            "|    Chevrolet Impala|   70|\n",
            "|   Plymouth Fury iii|   70|\n",
            "|    Pontiac Catalina|   70|\n",
            "|  AMC Ambassador DPL|   70|\n",
            "|Citroen DS-21 Pallas|   70|\n",
            "|Chevrolet Chevell...|   70|\n",
            "|    Ford Torino (sw)|   70|\n",
            "|Plymouth Satellit...|   70|\n",
            "|  AMC Rebel SST (sw)|   70|\n",
            "| Dodge Challenger SE|   70|\n",
            "|  Plymouth 'Cuda 340|   70|\n",
            "|Ford Mustang Boss...|   70|\n",
            "|Chevrolet Monte C...|   70|\n",
            "|Buick Estate Wago...|   70|\n",
            "+--------------------+-----+\n",
            "only showing top 20 rows\n",
            "\n"
          ]
        }
      ]
    },
    {
      "cell_type": "code",
      "source": [
        "df = spark.read.csv(\"/content/cars.csv\", header=True, inferSchema=True, sep=\";\")\n",
        "print(df.show(n=5, truncate= True))"
      ],
      "metadata": {
        "colab": {
          "base_uri": "https://localhost:8080/"
        },
        "id": "Zv2NBy3Xdgns",
        "outputId": "e497441a-4b0a-4b5b-decf-d1c0f1db7afb"
      },
      "execution_count": 22,
      "outputs": [
        {
          "output_type": "stream",
          "name": "stdout",
          "text": [
            "+--------------------+----+---------+------------+----------+------+------------+-----+------+\n",
            "|                 Car| MPG|Cylinders|Displacement|Horsepower|Weight|Acceleration|Model|Origin|\n",
            "+--------------------+----+---------+------------+----------+------+------------+-----+------+\n",
            "|Chevrolet Chevell...|18.0|        8|       307.0|     130.0|  3504|        12.0|   70|    US|\n",
            "|   Buick Skylark 320|15.0|        8|       350.0|     165.0|  3693|        11.5|   70|    US|\n",
            "|  Plymouth Satellite|18.0|        8|       318.0|     150.0|  3436|        11.0|   70|    US|\n",
            "|       AMC Rebel SST|16.0|        8|       304.0|     150.0|  3433|        12.0|   70|    US|\n",
            "|         Ford Torino|17.0|        8|       302.0|     140.0|  3449|        10.5|   70|    US|\n",
            "+--------------------+----+---------+------------+----------+------+------------+-----+------+\n",
            "only showing top 5 rows\n",
            "\n",
            "None\n"
          ]
        }
      ]
    },
    {
      "cell_type": "code",
      "source": [
        "from pyspark.sql.functions import lit\n",
        "df = df.withColumn('New_column',lit(1))\n",
        "print(df.show())"
      ],
      "metadata": {
        "colab": {
          "base_uri": "https://localhost:8080/"
        },
        "id": "mRB-mDDwdvC1",
        "outputId": "9382f188-9c36-47e0-d1e7-94d8642535bc"
      },
      "execution_count": 24,
      "outputs": [
        {
          "output_type": "stream",
          "name": "stdout",
          "text": [
            "+--------------------+----+---------+------------+----------+------+------------+-----+------+----------+\n",
            "|                 Car| MPG|Cylinders|Displacement|Horsepower|Weight|Acceleration|Model|Origin|New_column|\n",
            "+--------------------+----+---------+------------+----------+------+------------+-----+------+----------+\n",
            "|Chevrolet Chevell...|18.0|        8|       307.0|     130.0|  3504|        12.0|   70|    US|         1|\n",
            "|   Buick Skylark 320|15.0|        8|       350.0|     165.0|  3693|        11.5|   70|    US|         1|\n",
            "|  Plymouth Satellite|18.0|        8|       318.0|     150.0|  3436|        11.0|   70|    US|         1|\n",
            "|       AMC Rebel SST|16.0|        8|       304.0|     150.0|  3433|        12.0|   70|    US|         1|\n",
            "|         Ford Torino|17.0|        8|       302.0|     140.0|  3449|        10.5|   70|    US|         1|\n",
            "|    Ford Galaxie 500|15.0|        8|       429.0|     198.0|  4341|        10.0|   70|    US|         1|\n",
            "|    Chevrolet Impala|14.0|        8|       454.0|     220.0|  4354|         9.0|   70|    US|         1|\n",
            "|   Plymouth Fury iii|14.0|        8|       440.0|     215.0|  4312|         8.5|   70|    US|         1|\n",
            "|    Pontiac Catalina|14.0|        8|       455.0|     225.0|  4425|        10.0|   70|    US|         1|\n",
            "|  AMC Ambassador DPL|15.0|        8|       390.0|     190.0|  3850|         8.5|   70|    US|         1|\n",
            "|Citroen DS-21 Pallas| 0.0|        4|       133.0|     115.0|  3090|        17.5|   70|Europe|         1|\n",
            "|Chevrolet Chevell...| 0.0|        8|       350.0|     165.0|  4142|        11.5|   70|    US|         1|\n",
            "|    Ford Torino (sw)| 0.0|        8|       351.0|     153.0|  4034|        11.0|   70|    US|         1|\n",
            "|Plymouth Satellit...| 0.0|        8|       383.0|     175.0|  4166|        10.5|   70|    US|         1|\n",
            "|  AMC Rebel SST (sw)| 0.0|        8|       360.0|     175.0|  3850|        11.0|   70|    US|         1|\n",
            "| Dodge Challenger SE|15.0|        8|       383.0|     170.0|  3563|        10.0|   70|    US|         1|\n",
            "|  Plymouth 'Cuda 340|14.0|        8|       340.0|     160.0|  3609|         8.0|   70|    US|         1|\n",
            "|Ford Mustang Boss...| 0.0|        8|       302.0|     140.0|  3353|         8.0|   70|    US|         1|\n",
            "|Chevrolet Monte C...|15.0|        8|       400.0|     150.0|  3761|         9.5|   70|    US|         1|\n",
            "|Buick Estate Wago...|14.0|        8|       455.0|     225.0|  3086|        10.0|   70|    US|         1|\n",
            "+--------------------+----+---------+------------+----------+------+------------+-----+------+----------+\n",
            "only showing top 20 rows\n",
            "\n",
            "None\n"
          ]
        }
      ]
    },
    {
      "cell_type": "code",
      "source": [
        "df = df.withColumn(\"Second_Column\",  lit(2))\\\n",
        "       .withColumn(\"Thirdd_Column\", lit(3))\n",
        "\n",
        "print(df.show(truncate=True))"
      ],
      "metadata": {
        "colab": {
          "base_uri": "https://localhost:8080/"
        },
        "id": "9ce4H4e3eKqW",
        "outputId": "12f11dea-5f2b-40c0-ae03-570b935774b5"
      },
      "execution_count": 27,
      "outputs": [
        {
          "output_type": "stream",
          "name": "stdout",
          "text": [
            "+--------------------+----+---------+------------+----------+------+------------+-----+------+----------+-------------+-------------+\n",
            "|                 Car| MPG|Cylinders|Displacement|Horsepower|Weight|Acceleration|Model|Origin|New_column|Second_Column|Thirdd_Column|\n",
            "+--------------------+----+---------+------------+----------+------+------------+-----+------+----------+-------------+-------------+\n",
            "|Chevrolet Chevell...|18.0|        8|       307.0|     130.0|  3504|        12.0|   70|    US|         1|            2|            3|\n",
            "|   Buick Skylark 320|15.0|        8|       350.0|     165.0|  3693|        11.5|   70|    US|         1|            2|            3|\n",
            "|  Plymouth Satellite|18.0|        8|       318.0|     150.0|  3436|        11.0|   70|    US|         1|            2|            3|\n",
            "|       AMC Rebel SST|16.0|        8|       304.0|     150.0|  3433|        12.0|   70|    US|         1|            2|            3|\n",
            "|         Ford Torino|17.0|        8|       302.0|     140.0|  3449|        10.5|   70|    US|         1|            2|            3|\n",
            "|    Ford Galaxie 500|15.0|        8|       429.0|     198.0|  4341|        10.0|   70|    US|         1|            2|            3|\n",
            "|    Chevrolet Impala|14.0|        8|       454.0|     220.0|  4354|         9.0|   70|    US|         1|            2|            3|\n",
            "|   Plymouth Fury iii|14.0|        8|       440.0|     215.0|  4312|         8.5|   70|    US|         1|            2|            3|\n",
            "|    Pontiac Catalina|14.0|        8|       455.0|     225.0|  4425|        10.0|   70|    US|         1|            2|            3|\n",
            "|  AMC Ambassador DPL|15.0|        8|       390.0|     190.0|  3850|         8.5|   70|    US|         1|            2|            3|\n",
            "|Citroen DS-21 Pallas| 0.0|        4|       133.0|     115.0|  3090|        17.5|   70|Europe|         1|            2|            3|\n",
            "|Chevrolet Chevell...| 0.0|        8|       350.0|     165.0|  4142|        11.5|   70|    US|         1|            2|            3|\n",
            "|    Ford Torino (sw)| 0.0|        8|       351.0|     153.0|  4034|        11.0|   70|    US|         1|            2|            3|\n",
            "|Plymouth Satellit...| 0.0|        8|       383.0|     175.0|  4166|        10.5|   70|    US|         1|            2|            3|\n",
            "|  AMC Rebel SST (sw)| 0.0|        8|       360.0|     175.0|  3850|        11.0|   70|    US|         1|            2|            3|\n",
            "| Dodge Challenger SE|15.0|        8|       383.0|     170.0|  3563|        10.0|   70|    US|         1|            2|            3|\n",
            "|  Plymouth 'Cuda 340|14.0|        8|       340.0|     160.0|  3609|         8.0|   70|    US|         1|            2|            3|\n",
            "|Ford Mustang Boss...| 0.0|        8|       302.0|     140.0|  3353|         8.0|   70|    US|         1|            2|            3|\n",
            "|Chevrolet Monte C...|15.0|        8|       400.0|     150.0|  3761|         9.5|   70|    US|         1|            2|            3|\n",
            "|Buick Estate Wago...|14.0|        8|       455.0|     225.0|  3086|        10.0|   70|    US|         1|            2|            3|\n",
            "+--------------------+----+---------+------------+----------+------+------------+-----+------+----------+-------------+-------------+\n",
            "only showing top 20 rows\n",
            "\n",
            "None\n"
          ]
        }
      ]
    },
    {
      "cell_type": "code",
      "source": [
        "from pyspark.sql.functions import concat\n",
        "df = df.withColumn(\"Concat_colum\", concat(col(\"Car\"), lit(\" \"), col(\"Origin\")))\n",
        "print(df.show(truncate=True))"
      ],
      "metadata": {
        "colab": {
          "base_uri": "https://localhost:8080/"
        },
        "id": "hdFppwkTefia",
        "outputId": "d63a47d0-aa53-41ab-ab2d-99b35013dcc4"
      },
      "execution_count": 29,
      "outputs": [
        {
          "output_type": "stream",
          "name": "stdout",
          "text": [
            "+--------------------+----+---------+------------+----------+------+------------+-----+------+----------+-------------+-------------+--------------------+\n",
            "|                 Car| MPG|Cylinders|Displacement|Horsepower|Weight|Acceleration|Model|Origin|New_column|Second_Column|Thirdd_Column|        Concat_colum|\n",
            "+--------------------+----+---------+------------+----------+------+------------+-----+------+----------+-------------+-------------+--------------------+\n",
            "|Chevrolet Chevell...|18.0|        8|       307.0|     130.0|  3504|        12.0|   70|    US|         1|            2|            3|Chevrolet Chevell...|\n",
            "|   Buick Skylark 320|15.0|        8|       350.0|     165.0|  3693|        11.5|   70|    US|         1|            2|            3|Buick Skylark 320 US|\n",
            "|  Plymouth Satellite|18.0|        8|       318.0|     150.0|  3436|        11.0|   70|    US|         1|            2|            3|Plymouth Satellit...|\n",
            "|       AMC Rebel SST|16.0|        8|       304.0|     150.0|  3433|        12.0|   70|    US|         1|            2|            3|    AMC Rebel SST US|\n",
            "|         Ford Torino|17.0|        8|       302.0|     140.0|  3449|        10.5|   70|    US|         1|            2|            3|      Ford Torino US|\n",
            "|    Ford Galaxie 500|15.0|        8|       429.0|     198.0|  4341|        10.0|   70|    US|         1|            2|            3| Ford Galaxie 500 US|\n",
            "|    Chevrolet Impala|14.0|        8|       454.0|     220.0|  4354|         9.0|   70|    US|         1|            2|            3| Chevrolet Impala US|\n",
            "|   Plymouth Fury iii|14.0|        8|       440.0|     215.0|  4312|         8.5|   70|    US|         1|            2|            3|Plymouth Fury iii US|\n",
            "|    Pontiac Catalina|14.0|        8|       455.0|     225.0|  4425|        10.0|   70|    US|         1|            2|            3| Pontiac Catalina US|\n",
            "|  AMC Ambassador DPL|15.0|        8|       390.0|     190.0|  3850|         8.5|   70|    US|         1|            2|            3|AMC Ambassador DP...|\n",
            "|Citroen DS-21 Pallas| 0.0|        4|       133.0|     115.0|  3090|        17.5|   70|Europe|         1|            2|            3|Citroen DS-21 Pal...|\n",
            "|Chevrolet Chevell...| 0.0|        8|       350.0|     165.0|  4142|        11.5|   70|    US|         1|            2|            3|Chevrolet Chevell...|\n",
            "|    Ford Torino (sw)| 0.0|        8|       351.0|     153.0|  4034|        11.0|   70|    US|         1|            2|            3| Ford Torino (sw) US|\n",
            "|Plymouth Satellit...| 0.0|        8|       383.0|     175.0|  4166|        10.5|   70|    US|         1|            2|            3|Plymouth Satellit...|\n",
            "|  AMC Rebel SST (sw)| 0.0|        8|       360.0|     175.0|  3850|        11.0|   70|    US|         1|            2|            3|AMC Rebel SST (sw...|\n",
            "| Dodge Challenger SE|15.0|        8|       383.0|     170.0|  3563|        10.0|   70|    US|         1|            2|            3|Dodge Challenger ...|\n",
            "|  Plymouth 'Cuda 340|14.0|        8|       340.0|     160.0|  3609|         8.0|   70|    US|         1|            2|            3|Plymouth 'Cuda 34...|\n",
            "|Ford Mustang Boss...| 0.0|        8|       302.0|     140.0|  3353|         8.0|   70|    US|         1|            2|            3|Ford Mustang Boss...|\n",
            "|Chevrolet Monte C...|15.0|        8|       400.0|     150.0|  3761|         9.5|   70|    US|         1|            2|            3|Chevrolet Monte C...|\n",
            "|Buick Estate Wago...|14.0|        8|       455.0|     225.0|  3086|        10.0|   70|    US|         1|            2|            3|Buick Estate Wago...|\n",
            "+--------------------+----+---------+------------+----------+------+------------+-----+------+----------+-------------+-------------+--------------------+\n",
            "only showing top 20 rows\n",
            "\n",
            "None\n"
          ]
        }
      ]
    },
    {
      "cell_type": "code",
      "source": [
        "df = df.withColumnRenamed(\"Weight\", \"Kgs\")\n",
        "print(df.show(truncate=False))"
      ],
      "metadata": {
        "colab": {
          "base_uri": "https://localhost:8080/"
        },
        "id": "DzV9Rt4LfpQL",
        "outputId": "4583bc3c-8fad-432d-c886-ef4cce34fb67"
      },
      "execution_count": 31,
      "outputs": [
        {
          "output_type": "stream",
          "name": "stdout",
          "text": [
            "+--------------------------------+----+---------+------------+----------+----+------------+-----+------+----------+-------------+-------------+-----------------------------------+\n",
            "|Car                             |MPG |Cylinders|Displacement|Horsepower|Kgs |Acceleration|Model|Origin|New_column|Second_Column|Thirdd_Column|Concat_colum                       |\n",
            "+--------------------------------+----+---------+------------+----------+----+------------+-----+------+----------+-------------+-------------+-----------------------------------+\n",
            "|Chevrolet Chevelle Malibu       |18.0|8        |307.0       |130.0     |3504|12.0        |70   |US    |1         |2            |3            |Chevrolet Chevelle Malibu US       |\n",
            "|Buick Skylark 320               |15.0|8        |350.0       |165.0     |3693|11.5        |70   |US    |1         |2            |3            |Buick Skylark 320 US               |\n",
            "|Plymouth Satellite              |18.0|8        |318.0       |150.0     |3436|11.0        |70   |US    |1         |2            |3            |Plymouth Satellite US              |\n",
            "|AMC Rebel SST                   |16.0|8        |304.0       |150.0     |3433|12.0        |70   |US    |1         |2            |3            |AMC Rebel SST US                   |\n",
            "|Ford Torino                     |17.0|8        |302.0       |140.0     |3449|10.5        |70   |US    |1         |2            |3            |Ford Torino US                     |\n",
            "|Ford Galaxie 500                |15.0|8        |429.0       |198.0     |4341|10.0        |70   |US    |1         |2            |3            |Ford Galaxie 500 US                |\n",
            "|Chevrolet Impala                |14.0|8        |454.0       |220.0     |4354|9.0         |70   |US    |1         |2            |3            |Chevrolet Impala US                |\n",
            "|Plymouth Fury iii               |14.0|8        |440.0       |215.0     |4312|8.5         |70   |US    |1         |2            |3            |Plymouth Fury iii US               |\n",
            "|Pontiac Catalina                |14.0|8        |455.0       |225.0     |4425|10.0        |70   |US    |1         |2            |3            |Pontiac Catalina US                |\n",
            "|AMC Ambassador DPL              |15.0|8        |390.0       |190.0     |3850|8.5         |70   |US    |1         |2            |3            |AMC Ambassador DPL US              |\n",
            "|Citroen DS-21 Pallas            |0.0 |4        |133.0       |115.0     |3090|17.5        |70   |Europe|1         |2            |3            |Citroen DS-21 Pallas Europe        |\n",
            "|Chevrolet Chevelle Concours (sw)|0.0 |8        |350.0       |165.0     |4142|11.5        |70   |US    |1         |2            |3            |Chevrolet Chevelle Concours (sw) US|\n",
            "|Ford Torino (sw)                |0.0 |8        |351.0       |153.0     |4034|11.0        |70   |US    |1         |2            |3            |Ford Torino (sw) US                |\n",
            "|Plymouth Satellite (sw)         |0.0 |8        |383.0       |175.0     |4166|10.5        |70   |US    |1         |2            |3            |Plymouth Satellite (sw) US         |\n",
            "|AMC Rebel SST (sw)              |0.0 |8        |360.0       |175.0     |3850|11.0        |70   |US    |1         |2            |3            |AMC Rebel SST (sw) US              |\n",
            "|Dodge Challenger SE             |15.0|8        |383.0       |170.0     |3563|10.0        |70   |US    |1         |2            |3            |Dodge Challenger SE US             |\n",
            "|Plymouth 'Cuda 340              |14.0|8        |340.0       |160.0     |3609|8.0         |70   |US    |1         |2            |3            |Plymouth 'Cuda 340 US              |\n",
            "|Ford Mustang Boss 302           |0.0 |8        |302.0       |140.0     |3353|8.0         |70   |US    |1         |2            |3            |Ford Mustang Boss 302 US           |\n",
            "|Chevrolet Monte Carlo           |15.0|8        |400.0       |150.0     |3761|9.5         |70   |US    |1         |2            |3            |Chevrolet Monte Carlo US           |\n",
            "|Buick Estate Wagon (sw)         |14.0|8        |455.0       |225.0     |3086|10.0        |70   |US    |1         |2            |3            |Buick Estate Wagon (sw) US         |\n",
            "+--------------------------------+----+---------+------------+----------+----+------------+-----+------+----------+-------------+-------------+-----------------------------------+\n",
            "only showing top 20 rows\n",
            "\n",
            "None\n"
          ]
        }
      ]
    },
    {
      "cell_type": "code",
      "source": [
        "df = df.write.csv(\"Export/exportCars.csv\", header=True)"
      ],
      "metadata": {
        "id": "9rtmIUMlgOG7"
      },
      "execution_count": 33,
      "outputs": []
    },
    {
      "cell_type": "code",
      "source": [
        "df = spark.read.csv(\"/content/Export/exportCars.csv\", header=True)\n",
        "print(df.show(5))"
      ],
      "metadata": {
        "colab": {
          "base_uri": "https://localhost:8080/"
        },
        "id": "OwgfnLtggc51",
        "outputId": "5244913b-6052-4e2e-f3dc-9112693e69a4"
      },
      "execution_count": 52,
      "outputs": [
        {
          "output_type": "stream",
          "name": "stdout",
          "text": [
            "+--------------------+----+---------+------------+----------+----+------------+-----+------+----------+-------------+-------------+--------------------+\n",
            "|                 Car| MPG|Cylinders|Displacement|Horsepower| Kgs|Acceleration|Model|Origin|New_column|Second_Column|Thirdd_Column|        Concat_colum|\n",
            "+--------------------+----+---------+------------+----------+----+------------+-----+------+----------+-------------+-------------+--------------------+\n",
            "|Chevrolet Chevell...|18.0|        8|       307.0|     130.0|3504|        12.0|   70|    US|         1|            2|            3|Chevrolet Chevell...|\n",
            "|   Buick Skylark 320|15.0|        8|       350.0|     165.0|3693|        11.5|   70|    US|         1|            2|            3|Buick Skylark 320 US|\n",
            "|  Plymouth Satellite|18.0|        8|       318.0|     150.0|3436|        11.0|   70|    US|         1|            2|            3|Plymouth Satellit...|\n",
            "|       AMC Rebel SST|16.0|        8|       304.0|     150.0|3433|        12.0|   70|    US|         1|            2|            3|    AMC Rebel SST US|\n",
            "|         Ford Torino|17.0|        8|       302.0|     140.0|3449|        10.5|   70|    US|         1|            2|            3|      Ford Torino US|\n",
            "+--------------------+----+---------+------------+----------+----+------------+-----+------+----------+-------------+-------------+--------------------+\n",
            "only showing top 5 rows\n",
            "\n",
            "None\n"
          ]
        }
      ]
    },
    {
      "cell_type": "code",
      "source": [
        "df = df.drop(\"concat_colum\")\n",
        "print(df.show(5))"
      ],
      "metadata": {
        "colab": {
          "base_uri": "https://localhost:8080/"
        },
        "id": "0imO7pXng5B0",
        "outputId": "a27a4d76-0d6c-4f66-d3c8-9f43a6bd1183"
      },
      "execution_count": 53,
      "outputs": [
        {
          "output_type": "stream",
          "name": "stdout",
          "text": [
            "+--------------------+----+---------+------------+----------+----+------------+-----+------+----------+-------------+-------------+\n",
            "|                 Car| MPG|Cylinders|Displacement|Horsepower| Kgs|Acceleration|Model|Origin|New_column|Second_Column|Thirdd_Column|\n",
            "+--------------------+----+---------+------------+----------+----+------------+-----+------+----------+-------------+-------------+\n",
            "|Chevrolet Chevell...|18.0|        8|       307.0|     130.0|3504|        12.0|   70|    US|         1|            2|            3|\n",
            "|   Buick Skylark 320|15.0|        8|       350.0|     165.0|3693|        11.5|   70|    US|         1|            2|            3|\n",
            "|  Plymouth Satellite|18.0|        8|       318.0|     150.0|3436|        11.0|   70|    US|         1|            2|            3|\n",
            "|       AMC Rebel SST|16.0|        8|       304.0|     150.0|3433|        12.0|   70|    US|         1|            2|            3|\n",
            "|         Ford Torino|17.0|        8|       302.0|     140.0|3449|        10.5|   70|    US|         1|            2|            3|\n",
            "+--------------------+----+---------+------------+----------+----+------------+-----+------+----------+-------------+-------------+\n",
            "only showing top 5 rows\n",
            "\n",
            "None\n"
          ]
        }
      ]
    },
    {
      "cell_type": "code",
      "source": [
        "df = df.withColumn(\"concat_column\", concat(col(\"Car\"), lit(\" \"), col(\"Model\")))\n",
        "print(df.show(n=3, truncate=False))"
      ],
      "metadata": {
        "colab": {
          "base_uri": "https://localhost:8080/"
        },
        "id": "oTgjbwCehXB_",
        "outputId": "b6da4665-3778-414c-9f0e-1d0358926597"
      },
      "execution_count": 54,
      "outputs": [
        {
          "output_type": "stream",
          "name": "stdout",
          "text": [
            "+-------------------------+----+---------+------------+----------+----+------------+-----+------+----------+-------------+-------------+----------------------------+\n",
            "|Car                      |MPG |Cylinders|Displacement|Horsepower|Kgs |Acceleration|Model|Origin|New_column|Second_Column|Thirdd_Column|concat_column               |\n",
            "+-------------------------+----+---------+------------+----------+----+------------+-----+------+----------+-------------+-------------+----------------------------+\n",
            "|Chevrolet Chevelle Malibu|18.0|8        |307.0       |130.0     |3504|12.0        |70   |US    |1         |2            |3            |Chevrolet Chevelle Malibu 70|\n",
            "|Buick Skylark 320        |15.0|8        |350.0       |165.0     |3693|11.5        |70   |US    |1         |2            |3            |Buick Skylark 320 70        |\n",
            "|Plymouth Satellite       |18.0|8        |318.0       |150.0     |3436|11.0        |70   |US    |1         |2            |3            |Plymouth Satellite 70       |\n",
            "+-------------------------+----+---------+------------+----------+----+------------+-----+------+----------+-------------+-------------+----------------------------+\n",
            "only showing top 3 rows\n",
            "\n",
            "None\n"
          ]
        }
      ]
    },
    {
      "cell_type": "code",
      "source": [
        "print(df.show())"
      ],
      "metadata": {
        "colab": {
          "base_uri": "https://localhost:8080/"
        },
        "id": "KsJ5iR1iijlI",
        "outputId": "15efd67b-b349-456a-e444-89a696cf862e"
      },
      "execution_count": 55,
      "outputs": [
        {
          "output_type": "stream",
          "name": "stdout",
          "text": [
            "+--------------------+----+---------+------------+----------+----+------------+-----+------+----------+-------------+-------------+--------------------+\n",
            "|                 Car| MPG|Cylinders|Displacement|Horsepower| Kgs|Acceleration|Model|Origin|New_column|Second_Column|Thirdd_Column|       concat_column|\n",
            "+--------------------+----+---------+------------+----------+----+------------+-----+------+----------+-------------+-------------+--------------------+\n",
            "|Chevrolet Chevell...|18.0|        8|       307.0|     130.0|3504|        12.0|   70|    US|         1|            2|            3|Chevrolet Chevell...|\n",
            "|   Buick Skylark 320|15.0|        8|       350.0|     165.0|3693|        11.5|   70|    US|         1|            2|            3|Buick Skylark 320 70|\n",
            "|  Plymouth Satellite|18.0|        8|       318.0|     150.0|3436|        11.0|   70|    US|         1|            2|            3|Plymouth Satellit...|\n",
            "|       AMC Rebel SST|16.0|        8|       304.0|     150.0|3433|        12.0|   70|    US|         1|            2|            3|    AMC Rebel SST 70|\n",
            "|         Ford Torino|17.0|        8|       302.0|     140.0|3449|        10.5|   70|    US|         1|            2|            3|      Ford Torino 70|\n",
            "|    Ford Galaxie 500|15.0|        8|       429.0|     198.0|4341|        10.0|   70|    US|         1|            2|            3| Ford Galaxie 500 70|\n",
            "|    Chevrolet Impala|14.0|        8|       454.0|     220.0|4354|         9.0|   70|    US|         1|            2|            3| Chevrolet Impala 70|\n",
            "|   Plymouth Fury iii|14.0|        8|       440.0|     215.0|4312|         8.5|   70|    US|         1|            2|            3|Plymouth Fury iii 70|\n",
            "|    Pontiac Catalina|14.0|        8|       455.0|     225.0|4425|        10.0|   70|    US|         1|            2|            3| Pontiac Catalina 70|\n",
            "|  AMC Ambassador DPL|15.0|        8|       390.0|     190.0|3850|         8.5|   70|    US|         1|            2|            3|AMC Ambassador DP...|\n",
            "|Citroen DS-21 Pallas| 0.0|        4|       133.0|     115.0|3090|        17.5|   70|Europe|         1|            2|            3|Citroen DS-21 Pal...|\n",
            "|Chevrolet Chevell...| 0.0|        8|       350.0|     165.0|4142|        11.5|   70|    US|         1|            2|            3|Chevrolet Chevell...|\n",
            "|    Ford Torino (sw)| 0.0|        8|       351.0|     153.0|4034|        11.0|   70|    US|         1|            2|            3| Ford Torino (sw) 70|\n",
            "|Plymouth Satellit...| 0.0|        8|       383.0|     175.0|4166|        10.5|   70|    US|         1|            2|            3|Plymouth Satellit...|\n",
            "|  AMC Rebel SST (sw)| 0.0|        8|       360.0|     175.0|3850|        11.0|   70|    US|         1|            2|            3|AMC Rebel SST (sw...|\n",
            "| Dodge Challenger SE|15.0|        8|       383.0|     170.0|3563|        10.0|   70|    US|         1|            2|            3|Dodge Challenger ...|\n",
            "|  Plymouth 'Cuda 340|14.0|        8|       340.0|     160.0|3609|         8.0|   70|    US|         1|            2|            3|Plymouth 'Cuda 34...|\n",
            "|Ford Mustang Boss...| 0.0|        8|       302.0|     140.0|3353|         8.0|   70|    US|         1|            2|            3|Ford Mustang Boss...|\n",
            "|Chevrolet Monte C...|15.0|        8|       400.0|     150.0|3761|         9.5|   70|    US|         1|            2|            3|Chevrolet Monte C...|\n",
            "|Buick Estate Wago...|14.0|        8|       455.0|     225.0|3086|        10.0|   70|    US|         1|            2|            3|Buick Estate Wago...|\n",
            "+--------------------+----+---------+------------+----------+----+------------+-----+------+----------+-------------+-------------+--------------------+\n",
            "only showing top 20 rows\n",
            "\n",
            "None\n"
          ]
        }
      ]
    },
    {
      "cell_type": "code",
      "source": [
        "df = df.drop(\"concat_column\")\\\n",
        "  .drop(\"Thirdd_Column\")\n",
        "print(df.show())"
      ],
      "metadata": {
        "colab": {
          "base_uri": "https://localhost:8080/"
        },
        "id": "lSC0V5YFi8L9",
        "outputId": "87da23d2-dfc6-4e99-d71f-5c70f4f2f8e9"
      },
      "execution_count": 56,
      "outputs": [
        {
          "output_type": "stream",
          "name": "stdout",
          "text": [
            "+--------------------+----+---------+------------+----------+----+------------+-----+------+----------+-------------+\n",
            "|                 Car| MPG|Cylinders|Displacement|Horsepower| Kgs|Acceleration|Model|Origin|New_column|Second_Column|\n",
            "+--------------------+----+---------+------------+----------+----+------------+-----+------+----------+-------------+\n",
            "|Chevrolet Chevell...|18.0|        8|       307.0|     130.0|3504|        12.0|   70|    US|         1|            2|\n",
            "|   Buick Skylark 320|15.0|        8|       350.0|     165.0|3693|        11.5|   70|    US|         1|            2|\n",
            "|  Plymouth Satellite|18.0|        8|       318.0|     150.0|3436|        11.0|   70|    US|         1|            2|\n",
            "|       AMC Rebel SST|16.0|        8|       304.0|     150.0|3433|        12.0|   70|    US|         1|            2|\n",
            "|         Ford Torino|17.0|        8|       302.0|     140.0|3449|        10.5|   70|    US|         1|            2|\n",
            "|    Ford Galaxie 500|15.0|        8|       429.0|     198.0|4341|        10.0|   70|    US|         1|            2|\n",
            "|    Chevrolet Impala|14.0|        8|       454.0|     220.0|4354|         9.0|   70|    US|         1|            2|\n",
            "|   Plymouth Fury iii|14.0|        8|       440.0|     215.0|4312|         8.5|   70|    US|         1|            2|\n",
            "|    Pontiac Catalina|14.0|        8|       455.0|     225.0|4425|        10.0|   70|    US|         1|            2|\n",
            "|  AMC Ambassador DPL|15.0|        8|       390.0|     190.0|3850|         8.5|   70|    US|         1|            2|\n",
            "|Citroen DS-21 Pallas| 0.0|        4|       133.0|     115.0|3090|        17.5|   70|Europe|         1|            2|\n",
            "|Chevrolet Chevell...| 0.0|        8|       350.0|     165.0|4142|        11.5|   70|    US|         1|            2|\n",
            "|    Ford Torino (sw)| 0.0|        8|       351.0|     153.0|4034|        11.0|   70|    US|         1|            2|\n",
            "|Plymouth Satellit...| 0.0|        8|       383.0|     175.0|4166|        10.5|   70|    US|         1|            2|\n",
            "|  AMC Rebel SST (sw)| 0.0|        8|       360.0|     175.0|3850|        11.0|   70|    US|         1|            2|\n",
            "| Dodge Challenger SE|15.0|        8|       383.0|     170.0|3563|        10.0|   70|    US|         1|            2|\n",
            "|  Plymouth 'Cuda 340|14.0|        8|       340.0|     160.0|3609|         8.0|   70|    US|         1|            2|\n",
            "|Ford Mustang Boss...| 0.0|        8|       302.0|     140.0|3353|         8.0|   70|    US|         1|            2|\n",
            "|Chevrolet Monte C...|15.0|        8|       400.0|     150.0|3761|         9.5|   70|    US|         1|            2|\n",
            "|Buick Estate Wago...|14.0|        8|       455.0|     225.0|3086|        10.0|   70|    US|         1|            2|\n",
            "+--------------------+----+---------+------------+----------+----+------------+-----+------+----------+-------------+\n",
            "only showing top 20 rows\n",
            "\n",
            "None\n"
          ]
        }
      ]
    },
    {
      "cell_type": "code",
      "source": [
        "total_count = df.count()\n",
        "print(\"Total count of the table: \" + str(total_count))"
      ],
      "metadata": {
        "colab": {
          "base_uri": "https://localhost:8080/"
        },
        "id": "8lSln-OOjVyJ",
        "outputId": "108ef946-4ea8-4d6a-a86c-f69b8e68f7cb"
      },
      "execution_count": 57,
      "outputs": [
        {
          "output_type": "stream",
          "name": "stdout",
          "text": [
            "Total count of the table: 406\n"
          ]
        }
      ]
    },
    {
      "cell_type": "code",
      "source": [
        "print(df.show(n=6, truncate=False))"
      ],
      "metadata": {
        "colab": {
          "base_uri": "https://localhost:8080/"
        },
        "id": "mPX-L7MikLS6",
        "outputId": "393fdb00-2822-4685-c158-acaed9dde04a"
      },
      "execution_count": 59,
      "outputs": [
        {
          "output_type": "stream",
          "name": "stdout",
          "text": [
            "+-------------------------+----+---------+------------+----------+----+------------+-----+------+----------+-------------+\n",
            "|Car                      |MPG |Cylinders|Displacement|Horsepower|Kgs |Acceleration|Model|Origin|New_column|Second_Column|\n",
            "+-------------------------+----+---------+------------+----------+----+------------+-----+------+----------+-------------+\n",
            "|Chevrolet Chevelle Malibu|18.0|8        |307.0       |130.0     |3504|12.0        |70   |US    |1         |2            |\n",
            "|Buick Skylark 320        |15.0|8        |350.0       |165.0     |3693|11.5        |70   |US    |1         |2            |\n",
            "|Plymouth Satellite       |18.0|8        |318.0       |150.0     |3436|11.0        |70   |US    |1         |2            |\n",
            "|AMC Rebel SST            |16.0|8        |304.0       |150.0     |3433|12.0        |70   |US    |1         |2            |\n",
            "|Ford Torino              |17.0|8        |302.0       |140.0     |3449|10.5        |70   |US    |1         |2            |\n",
            "|Ford Galaxie 500         |15.0|8        |429.0       |198.0     |4341|10.0        |70   |US    |1         |2            |\n",
            "+-------------------------+----+---------+------------+----------+----+------------+-----+------+----------+-------------+\n",
            "only showing top 6 rows\n",
            "\n",
            "None\n"
          ]
        }
      ]
    },
    {
      "cell_type": "code",
      "source": [
        "df = spark.read.csv(\"/content/Export/exportCars.csv\", header=True)\n",
        "print(df.show(5))"
      ],
      "metadata": {
        "colab": {
          "base_uri": "https://localhost:8080/"
        },
        "id": "6sbpwkK5ks0K",
        "outputId": "6a4e6088-a458-412b-da2b-5bf0979f7342"
      },
      "execution_count": 120,
      "outputs": [
        {
          "output_type": "stream",
          "name": "stdout",
          "text": [
            "+--------------------+----+---------+------------+----------+----+------------+-----+------+----------+-------------+-------------+--------------------+\n",
            "|                 Car| MPG|Cylinders|Displacement|Horsepower| Kgs|Acceleration|Model|Origin|New_column|Second_Column|Thirdd_Column|        Concat_colum|\n",
            "+--------------------+----+---------+------------+----------+----+------------+-----+------+----------+-------------+-------------+--------------------+\n",
            "|Chevrolet Chevell...|18.0|        8|       307.0|     130.0|3504|        12.0|   70|    US|         1|            2|            3|Chevrolet Chevell...|\n",
            "|   Buick Skylark 320|15.0|        8|       350.0|     165.0|3693|        11.5|   70|    US|         1|            2|            3|Buick Skylark 320 US|\n",
            "|  Plymouth Satellite|18.0|        8|       318.0|     150.0|3436|        11.0|   70|    US|         1|            2|            3|Plymouth Satellit...|\n",
            "|       AMC Rebel SST|16.0|        8|       304.0|     150.0|3433|        12.0|   70|    US|         1|            2|            3|    AMC Rebel SST US|\n",
            "|         Ford Torino|17.0|        8|       302.0|     140.0|3449|        10.5|   70|    US|         1|            2|            3|      Ford Torino US|\n",
            "+--------------------+----+---------+------------+----------+----+------------+-----+------+----------+-------------+-------------+--------------------+\n",
            "only showing top 5 rows\n",
            "\n",
            "None\n"
          ]
        }
      ]
    },
    {
      "cell_type": "code",
      "source": [
        "from pyspark.sql.functions import col\n",
        "new_cars = df.filter(col(\"Car\")== \"Buick Skylark 320\")"
      ],
      "metadata": {
        "id": "h07bRtDzlM1d"
      },
      "execution_count": 121,
      "outputs": []
    },
    {
      "cell_type": "code",
      "source": [
        "buick_cars = new_cars.count()\n",
        "print(buick_cars)"
      ],
      "metadata": {
        "colab": {
          "base_uri": "https://localhost:8080/"
        },
        "id": "uVkSlP0ilikJ",
        "outputId": "f343fa25-0b4c-4173-b161-beac8ca46294"
      },
      "execution_count": 122,
      "outputs": [
        {
          "output_type": "stream",
          "name": "stdout",
          "text": [
            "1\n"
          ]
        }
      ]
    },
    {
      "cell_type": "code",
      "source": [
        "df = spark.read.csv(\"/content/sales.csv\", header=True, inferSchema=True)\n",
        "print(df.show(40))"
      ],
      "metadata": {
        "colab": {
          "base_uri": "https://localhost:8080/"
        },
        "id": "LWBGyYeXowCI",
        "outputId": "367e261f-66b3-4810-c6fa-61f1a2c65e3d"
      },
      "execution_count": 123,
      "outputs": [
        {
          "output_type": "stream",
          "name": "stdout",
          "text": [
            "+----------+--------------+-----------------+-----+------------+------+------+---------+------------+---------+-------+\n",
            "|     State|Total Expenses|          Product|Sales| Market Size|Profit|Market|Marketing|Product Type|Inventory|   Type|\n",
            "+----------+--------------+-----------------+-----+------------+------+------+---------+------------+---------+-------+\n",
            "|California|            63|         Amaretto|  109|Major Market|  -131|  West|       40|      Coffee|     2947|Regular|\n",
            "|California|            55|        Green Tea|  201|Major Market|    88|  West|       24|         Tea|      659|Regular|\n",
            "|California|           143|      Caffe Mocha|  289|Major Market|    25|  West|      109|    Espresso|      788|Regular|\n",
            "|California|           113|   Decaf Espresso|  576|Major Market|   216|  West|       81|    Espresso|     1744|  Decaf|\n",
            "|California|            37|        Chamomile|  247|Major Market|   148|  West|       26|  Herbal Tea|      809|  Decaf|\n",
            "|California|            99|            Lemon|  582|Major Market|   291|  West|       77|  Herbal Tea|     1268|  Decaf|\n",
            "|California|            25|             Mint|   90|Major Market|    26|  West|       12|  Herbal Tea|      541|  Decaf|\n",
            "|California|            43|       Darjeeling|  276|Major Market|   120|  West|       31|         Tea|      897|Regular|\n",
            "|California|            32|        Earl Grey|  187|Major Market|    79|  West|       21|         Tea|      580|Regular|\n",
            "|California|           142|        Columbian|  687|Major Market|   364|  West|       90|      Coffee|     2067|Regular|\n",
            "|California|           166|        Columbian|  902|Major Market|   508|  West|      127|      Coffee|     2617|Regular|\n",
            "|California|           139|        Columbian|  664|Major Market|   349|  West|       87|      Coffee|     2580|Regular|\n",
            "|California|            54|        Green Tea|  168|Major Market|    47|  West|       22|         Tea|      677|Regular|\n",
            "|California|           109|   Decaf Espresso|  546|Major Market|   203|  West|       77|    Espresso|     1310|  Decaf|\n",
            "|California|           116|   Decaf Espresso|  589|Major Market|   220|  West|       83|    Espresso|     1686|  Decaf|\n",
            "|California|           107|   Decaf Espresso|  567|Major Market|   292|  West|       75|    Espresso|     1691|  Decaf|\n",
            "|California|            33|        Chamomile|  198|Major Market|    84|  West|       22|  Herbal Tea|      984|  Decaf|\n",
            "|California|            88|            Lemon|  467|Major Market|   165|  West|       66|  Herbal Tea|      923|  Decaf|\n",
            "|California|            91|            Lemon|  490|Major Market|   174|  West|       69|  Herbal Tea|     1272|  Decaf|\n",
            "|California|            28|             Mint|  119|Major Market|    52|  West|       17|  Herbal Tea|      554|  Decaf|\n",
            "|California|            44|       Darjeeling|  290|Major Market|   128|  West|       33|         Tea|      930|Regular|\n",
            "|California|            92|      Caffe Latte|  527|Major Market|   230|  West|       74|    Espresso|     1819|Regular|\n",
            "|California|            92|      Caffe Latte|  527|Major Market|   230|  West|       74|    Espresso|     1797|Regular|\n",
            "|California|            96|Decaf Irish Cream|  132|Major Market|  -182|  West|       47|      Coffee|      862|  Decaf|\n",
            "|California|            49|        Green Tea|  159|Major Market|    59|  West|       21|         Tea|      593|Regular|\n",
            "|California|           111|   Decaf Espresso|  607|Major Market|   317|  West|       86|    Espresso|     1433|  Decaf|\n",
            "|California|            85|            Lemon|  452|Major Market|   160|  West|       64|  Herbal Tea|      965|  Decaf|\n",
            "|California|            30|             Mint|  120|Major Market|    38|  West|       17|  Herbal Tea|      554|  Decaf|\n",
            "|California|            37|             Mint|  188|Major Market|    92|  West|       27|  Herbal Tea|      574|  Decaf|\n",
            "|California|            41|       Darjeeling|  256|Major Market|   111|  West|       29|         Tea|      821|Regular|\n",
            "|California|            45|       Darjeeling|  302|Major Market|   134|  West|       34|         Tea|      928|Regular|\n",
            "|California|            45|       Darjeeling|  322|Major Market|   199|  West|       34|         Tea|      928|Regular|\n",
            "|California|            40|        Earl Grey|  245|Major Market|   105|  West|       28|         Tea|      598|Regular|\n",
            "|California|            90|      Caffe Latte|  509|Major Market|   221|  West|       66|    Espresso|     1417|Regular|\n",
            "|California|            93|      Caffe Latte|  531|Major Market|   232|  West|       69|    Espresso|     1775|Regular|\n",
            "|California|           146|      Caffe Mocha|  298|Major Market|    27|  West|      113|    Espresso|      700|Regular|\n",
            "|California|           146|      Caffe Mocha|  318|Major Market|    40|  West|      113|    Espresso|      700|Regular|\n",
            "|California|           113|   Decaf Espresso|  604|Major Market|   313|  West|       80|    Espresso|     1260|  Decaf|\n",
            "|California|            88|            Lemon|  498|Major Market|   245|  West|       66|  Herbal Tea|      923|  Decaf|\n",
            "|California|            25|             Mint|   98|Major Market|  NULL|  West|       13|  Herbal Tea|      536|  Decaf|\n",
            "+----------+--------------+-----------------+-----+------------+------+------+---------+------------+---------+-------+\n",
            "only showing top 40 rows\n",
            "\n",
            "None\n"
          ]
        }
      ]
    },
    {
      "cell_type": "code",
      "source": [
        "total_count = df.count()\n",
        "print(\"The total count of the table is:\" + str(total_count))\n",
        "\n",
        "filter_table = df.filter((col(\"Product Type\") == \"Coffee\") &\n",
        "                        (col(\"Type\") == 'Decaf'))\n",
        "print(\"The filter table for coffee is : \" +str(filter_table.show()))"
      ],
      "metadata": {
        "colab": {
          "base_uri": "https://localhost:8080/"
        },
        "id": "rq9xj135pM7T",
        "outputId": "21f9bcc8-2530-4aad-979a-c9feef51d442"
      },
      "execution_count": 124,
      "outputs": [
        {
          "output_type": "stream",
          "name": "stdout",
          "text": [
            "The total count of the table is:4241\n",
            "+----------+--------------+-----------------+-----+------------+------+------+---------+------------+---------+-----+\n",
            "|     State|Total Expenses|          Product|Sales| Market Size|Profit|Market|Marketing|Product Type|Inventory| Type|\n",
            "+----------+--------------+-----------------+-----+------------+------+------+---------+------------+---------+-----+\n",
            "|California|            96|Decaf Irish Cream|  132|Major Market|  -182|  West|       47|      Coffee|      862|Decaf|\n",
            "|California|            94|Decaf Irish Cream|  135|Major Market|  -180|  West|       50|      Coffee|     1288|Decaf|\n",
            "|California|           111|Decaf Irish Cream|  169|Major Market|  -142|  West|       66|      Coffee|     2393|Decaf|\n",
            "|California|           100|Decaf Irish Cream|  165|Major Market|  -189|  West|       64|      Coffee|     3139|Decaf|\n",
            "|California|           107|Decaf Irish Cream|  166|Major Market|  -137|  West|       64|      Coffee|     3139|Decaf|\n",
            "|California|           100|Decaf Irish Cream|  156|Major Market|  -188|  West|       57|      Coffee|     3909|Decaf|\n",
            "|California|            91|Decaf Irish Cream|  118|Major Market|  -117|  West|       47|      Coffee|      862|Decaf|\n",
            "|California|            94|Decaf Irish Cream|  127|Major Market|  -121|  West|       50|      Coffee|     1288|Decaf|\n",
            "|California|            93|Decaf Irish Cream|  139|Major Market|  -174|  West|       50|      Coffee|     3654|Decaf|\n",
            "|California|           121|Decaf Irish Cream|  202|Major Market|  -157|  West|       78|      Coffee|     2797|Decaf|\n",
            "|California|           110|Decaf Irish Cream|  163|Major Market|  -142|  West|       64|      Coffee|     1952|Decaf|\n",
            "|California|           117|Decaf Irish Cream|  192|Major Market|  -149|  West|       73|      Coffee|     4216|Decaf|\n",
            "|California|            91|Decaf Irish Cream|  122|Major Market|  -117|  West|       48|      Coffee|     1071|Decaf|\n",
            "|California|           109|Decaf Irish Cream|  169|Major Market|  -209|  West|       63|      Coffee|     1564|Decaf|\n",
            "|California|            96|Decaf Irish Cream|  147|Major Market|  -178|  West|       53|      Coffee|     3421|Decaf|\n",
            "|California|            96|Decaf Irish Cream|  138|Major Market|  -120|  West|       53|      Coffee|     3421|Decaf|\n",
            "|California|           100|Decaf Irish Cream|  146|Major Market|  -127|  West|       57|      Coffee|     3909|Decaf|\n",
            "|California|           113|Decaf Irish Cream|  200|Major Market|  -217|  West|       78|      Coffee|     2797|Decaf|\n",
            "|California|           109|Decaf Irish Cream|  159|Major Market|  -141|  West|       63|      Coffee|     1564|Decaf|\n",
            "|California|            91|Decaf Irish Cream|  130|Major Market|  -174|  West|       48|      Coffee|     1071|Decaf|\n",
            "+----------+--------------+-----------------+-----+------------+------+------+---------+------------+---------+-----+\n",
            "only showing top 20 rows\n",
            "\n",
            "The filter table for coffee is : None\n"
          ]
        }
      ]
    },
    {
      "cell_type": "code",
      "source": [
        "print(df.show(n=7))"
      ],
      "metadata": {
        "colab": {
          "base_uri": "https://localhost:8080/"
        },
        "id": "ECfdLrbVpr-H",
        "outputId": "10601702-d46b-4b46-aa23-134d6ac75035"
      },
      "execution_count": 125,
      "outputs": [
        {
          "output_type": "stream",
          "name": "stdout",
          "text": [
            "+----------+--------------+--------------+-----+------------+------+------+---------+------------+---------+-------+\n",
            "|     State|Total Expenses|       Product|Sales| Market Size|Profit|Market|Marketing|Product Type|Inventory|   Type|\n",
            "+----------+--------------+--------------+-----+------------+------+------+---------+------------+---------+-------+\n",
            "|California|            63|      Amaretto|  109|Major Market|  -131|  West|       40|      Coffee|     2947|Regular|\n",
            "|California|            55|     Green Tea|  201|Major Market|    88|  West|       24|         Tea|      659|Regular|\n",
            "|California|           143|   Caffe Mocha|  289|Major Market|    25|  West|      109|    Espresso|      788|Regular|\n",
            "|California|           113|Decaf Espresso|  576|Major Market|   216|  West|       81|    Espresso|     1744|  Decaf|\n",
            "|California|            37|     Chamomile|  247|Major Market|   148|  West|       26|  Herbal Tea|      809|  Decaf|\n",
            "|California|            99|         Lemon|  582|Major Market|   291|  West|       77|  Herbal Tea|     1268|  Decaf|\n",
            "|California|            25|          Mint|   90|Major Market|    26|  West|       12|  Herbal Tea|      541|  Decaf|\n",
            "+----------+--------------+--------------+-----+------------+------+------+---------+------------+---------+-------+\n",
            "only showing top 7 rows\n",
            "\n",
            "None\n"
          ]
        }
      ]
    },
    {
      "cell_type": "code",
      "source": [
        "distinct_rows = df.select(\"Product Type\").distinct()\n",
        "print(distinct_rows.show())"
      ],
      "metadata": {
        "colab": {
          "base_uri": "https://localhost:8080/"
        },
        "id": "0cKHyEE0rzWP",
        "outputId": "46513494-fb1d-4036-bd76-30f1841e3df0"
      },
      "execution_count": 126,
      "outputs": [
        {
          "output_type": "stream",
          "name": "stdout",
          "text": [
            "+------------+\n",
            "|Product Type|\n",
            "+------------+\n",
            "|    Espresso|\n",
            "|         Tea|\n",
            "|      Coffee|\n",
            "|  Herbal Tea|\n",
            "+------------+\n",
            "\n",
            "None\n"
          ]
        }
      ]
    },
    {
      "cell_type": "code",
      "source": [
        "df = df.withColumnRenamed(\"Product Type\", \"Product_Type\")\n",
        "print(df)"
      ],
      "metadata": {
        "colab": {
          "base_uri": "https://localhost:8080/"
        },
        "id": "0rsF_TrNsPc6",
        "outputId": "49e492ce-89a9-4a4a-f563-8e4d00156886"
      },
      "execution_count": 127,
      "outputs": [
        {
          "output_type": "stream",
          "name": "stdout",
          "text": [
            "DataFrame[State: string, Total Expenses: int, Product: string, Sales: int, Market Size: string, Profit: int, Market: string, Marketing: int, Product_Type: string, Inventory: int, Type: string]\n"
          ]
        }
      ]
    },
    {
      "cell_type": "code",
      "source": [
        "print(df.show(5))"
      ],
      "metadata": {
        "colab": {
          "base_uri": "https://localhost:8080/"
        },
        "id": "RIgYIvCHsze5",
        "outputId": "f0d0315f-8ade-4c90-e3de-12883b496edf"
      },
      "execution_count": 128,
      "outputs": [
        {
          "output_type": "stream",
          "name": "stdout",
          "text": [
            "+----------+--------------+--------------+-----+------------+------+------+---------+------------+---------+-------+\n",
            "|     State|Total Expenses|       Product|Sales| Market Size|Profit|Market|Marketing|Product_Type|Inventory|   Type|\n",
            "+----------+--------------+--------------+-----+------------+------+------+---------+------------+---------+-------+\n",
            "|California|            63|      Amaretto|  109|Major Market|  -131|  West|       40|      Coffee|     2947|Regular|\n",
            "|California|            55|     Green Tea|  201|Major Market|    88|  West|       24|         Tea|      659|Regular|\n",
            "|California|           143|   Caffe Mocha|  289|Major Market|    25|  West|      109|    Espresso|      788|Regular|\n",
            "|California|           113|Decaf Espresso|  576|Major Market|   216|  West|       81|    Espresso|     1744|  Decaf|\n",
            "|California|            37|     Chamomile|  247|Major Market|   148|  West|       26|  Herbal Tea|      809|  Decaf|\n",
            "+----------+--------------+--------------+-----+------------+------+------+---------+------------+---------+-------+\n",
            "only showing top 5 rows\n",
            "\n",
            "None\n"
          ]
        }
      ]
    },
    {
      "cell_type": "code",
      "source": [],
      "metadata": {
        "id": "fyaZWT3HvKsv"
      },
      "execution_count": null,
      "outputs": []
    }
  ]
}